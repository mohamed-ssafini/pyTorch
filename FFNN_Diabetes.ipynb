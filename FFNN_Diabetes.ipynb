{
  "nbformat": 4,
  "nbformat_minor": 0,
  "metadata": {
    "kernelspec": {
      "display_name": "Python 3",
      "language": "python",
      "name": "python3"
    },
    "language_info": {
      "codemirror_mode": {
        "name": "ipython",
        "version": 3
      },
      "file_extension": ".py",
      "mimetype": "text/x-python",
      "name": "python",
      "nbconvert_exporter": "python",
      "pygments_lexer": "ipython3",
      "version": "3.6.5"
    },
    "colab": {
      "name": "FFNN Diabetes.ipynb",
      "provenance": [],
      "include_colab_link": true
    }
  },
  "cells": [
    {
      "cell_type": "markdown",
      "metadata": {
        "id": "view-in-github",
        "colab_type": "text"
      },
      "source": [
        "<a href=\"https://colab.research.google.com/github/mohamedssafini/pyTorch/blob/master/FFNN_Diabetes.ipynb\" target=\"_parent\"><img src=\"https://colab.research.google.com/assets/colab-badge.svg\" alt=\"Open In Colab\"/></a>"
      ]
    },
    {
      "cell_type": "code",
      "metadata": {
        "id": "nreTRI0IPUnJ",
        "colab_type": "code",
        "colab": {}
      },
      "source": [
        "import numpy as np\n",
        "import torch\n",
        "import torch.nn as nn\n",
        "import pandas as pd\n",
        "from sklearn.preprocessing import StandardScaler\n",
        "from torch.utils.data import Dataset"
      ],
      "execution_count": 0,
      "outputs": []
    },
    {
      "cell_type": "code",
      "metadata": {
        "id": "s23Lf05-PUnR",
        "colab_type": "code",
        "colab": {}
      },
      "source": [
        "# Load the dataset using Pandas\n",
        "data = pd.read_csv('diabetes.csv')"
      ],
      "execution_count": 0,
      "outputs": []
    },
    {
      "cell_type": "code",
      "metadata": {
        "id": "Ud5OEqPCPUnU",
        "colab_type": "code",
        "colab": {}
      },
      "source": [
        "# For x: Extract out the dataset from all the rows (all samples) and all columns except last column (all features). \n",
        "# For y: Extract out the last column (which is the label)\n",
        "# Convert both to numpy using the .values method\n",
        "x = data.iloc[:,0:-1].values\n",
        "y_string= list(data.iloc[:,-1])"
      ],
      "execution_count": 0,
      "outputs": []
    },
    {
      "cell_type": "code",
      "metadata": {
        "id": "Q4hkN8-cPUnX",
        "colab_type": "code",
        "colab": {}
      },
      "source": [
        "# Lets have a look some samples from our data\n",
        "print(x[:3])\n",
        "print(y_string[:3])"
      ],
      "execution_count": 0,
      "outputs": []
    },
    {
      "cell_type": "code",
      "metadata": {
        "id": "gljTJ3uHPUne",
        "colab_type": "code",
        "colab": {}
      },
      "source": [
        "# Our neural network only understand numbers! So convert the string to labels\n",
        "y_int = []\n",
        "for string in y_string:\n",
        "    if string == 'positive':\n",
        "        y_int.append(1)\n",
        "    else:\n",
        "        y_int.append(0)"
      ],
      "execution_count": 0,
      "outputs": []
    },
    {
      "cell_type": "code",
      "metadata": {
        "id": "unmEjU_6PUnk",
        "colab_type": "code",
        "colab": {}
      },
      "source": [
        "# Now convert to an array\n",
        "y = np.array(y_int, dtype = 'float64')"
      ],
      "execution_count": 0,
      "outputs": []
    },
    {
      "cell_type": "markdown",
      "metadata": {
        "id": "WqehT4WbPUnp",
        "colab_type": "text"
      },
      "source": [
        "### $x^{\\prime}=\\frac{x-\\mu}{\\sigma}$"
      ]
    },
    {
      "cell_type": "code",
      "metadata": {
        "id": "gtR25DpTPUns",
        "colab_type": "code",
        "colab": {}
      },
      "source": [
        "# Feature Normalization. All features should have the same range of values (-1,1)\n",
        "sc = StandardScaler()\n",
        "x = sc.fit_transform(x)"
      ],
      "execution_count": 0,
      "outputs": []
    },
    {
      "cell_type": "code",
      "metadata": {
        "id": "vHo3y7cTPUnv",
        "colab_type": "code",
        "colab": {}
      },
      "source": [
        "# Now we convert the arrays to PyTorch tensors\n",
        "x = torch.tensor(x)\n",
        "# We add an extra dimension to convert this array to 2D\n",
        "y = torch.tensor(y).unsqueeze(1)"
      ],
      "execution_count": 0,
      "outputs": []
    },
    {
      "cell_type": "code",
      "metadata": {
        "id": "QN11vH-kPUnx",
        "colab_type": "code",
        "colab": {}
      },
      "source": [
        "print(x.shape)\n",
        "print(y.shape)"
      ],
      "execution_count": 0,
      "outputs": []
    },
    {
      "cell_type": "code",
      "metadata": {
        "id": "c_mctXqoPUn1",
        "colab_type": "code",
        "colab": {}
      },
      "source": [
        "class Dataset(Dataset):\n",
        "\n",
        "    def __init__(self,x,y):\n",
        "        self.x = x\n",
        "        self.y = y\n",
        "        \n",
        "    def __getitem__(self,index):\n",
        "        # Get one item from the dataset\n",
        "        return self.x[index], self.y[index]\n",
        "    \n",
        "    def __len__(self):\n",
        "        return len(self.x)"
      ],
      "execution_count": 0,
      "outputs": []
    },
    {
      "cell_type": "code",
      "metadata": {
        "id": "is7fcvSdPUn4",
        "colab_type": "code",
        "colab": {}
      },
      "source": [
        "dataset = Dataset(x,y)"
      ],
      "execution_count": 0,
      "outputs": []
    },
    {
      "cell_type": "code",
      "metadata": {
        "id": "eNDtLQ3FPUn6",
        "colab_type": "code",
        "colab": {}
      },
      "source": [
        "len(dataset)"
      ],
      "execution_count": 0,
      "outputs": []
    },
    {
      "cell_type": "code",
      "metadata": {
        "id": "8KklmkN8PUn-",
        "colab_type": "code",
        "colab": {}
      },
      "source": [
        "# Load the data to your dataloader for batch processing and shuffling\n",
        "train_loader = torch.utils.data.DataLoader(dataset=dataset,\n",
        "                                           batch_size=32,\n",
        "                                           shuffle=True)"
      ],
      "execution_count": 0,
      "outputs": []
    },
    {
      "cell_type": "code",
      "metadata": {
        "id": "IG4p3al3PUoC",
        "colab_type": "code",
        "colab": {}
      },
      "source": [
        "# Let's have a look at the data loader\n",
        "print(\"There is {} batches in the dataset\".format(len(train_loader)))\n",
        "for (x,y) in train_loader:\n",
        "    print(\"For one iteration (batch), there is:\")\n",
        "    print(\"Data:    {}\".format(x.shape))\n",
        "    print(\"Labels:  {}\".format(y.shape))\n",
        "    break"
      ],
      "execution_count": 0,
      "outputs": []
    },
    {
      "cell_type": "markdown",
      "metadata": {
        "id": "C9PI4tnZPUoF",
        "colab_type": "text"
      },
      "source": [
        "![demo](https://user-images.githubusercontent.com/30661597/60379583-246e5e80-9a68-11e9-8b7f-a4294234c201.png)"
      ]
    },
    {
      "cell_type": "code",
      "metadata": {
        "id": "2gxUI9UwPUoG",
        "colab_type": "code",
        "colab": {}
      },
      "source": [
        "# Now let's build the above network\n",
        "class Model(nn.Module):\n",
        "    def __init__(self, input_features):\n",
        "        super(Model, self).__init__()\n",
        "        self.fc1 = nn.Linear(input_features, 5)\n",
        "        self.fc2 = nn.Linear(5, 4)\n",
        "        self.fc3 = nn.Linear(4, 3)\n",
        "        self.fc4 = nn.Linear(3, 1)\n",
        "        self.sigmoid = nn.Sigmoid()\n",
        "        self.tanh = nn.Tanh()\n",
        "\n",
        "    def forward(self, x):\n",
        "        out = self.fc1(x)\n",
        "        out = self.tanh(out)\n",
        "        out = self.fc2(out)\n",
        "        out = self.tanh(out)\n",
        "        out = self.fc3(out)\n",
        "        out = self.tanh(out)\n",
        "        out = self.fc4(out)\n",
        "        out = self.sigmoid(out)\n",
        "        return out"
      ],
      "execution_count": 0,
      "outputs": []
    },
    {
      "cell_type": "markdown",
      "metadata": {
        "id": "PkWZJpMjPUoJ",
        "colab_type": "text"
      },
      "source": [
        "$H_{p}(q)=-\\frac{1}{N} \\sum_{i=1}^{N} y_{i} \\cdot \\log \\left(p\\left(y_{i}\\right)\\right)+\\left(1-y_{i}\\right) \\cdot \\log \\left(1-p\\left(y_{i}\\right)\\right)$\n",
        "\n",
        "\n",
        "cost = -(Y * torch.log(hypothesis) + (1 - Y) * torch.log(1 - hypothesis)).mean()"
      ]
    },
    {
      "cell_type": "code",
      "metadata": {
        "id": "lV1Jeq7uPUoK",
        "colab_type": "code",
        "colab": {}
      },
      "source": [
        "# Create the network (an object of the Net class)\n",
        "net = Model(x.shape[1])\n",
        "#In Binary Cross Entropy: the input and output should have the same shape \n",
        "#size_average = True --> the losses are averaged over observations for each minibatch\n",
        "criterion = torch.nn.BCELoss(size_average=True)   \n",
        "# We will use SGD with momentum with a learning rate of 0.1\n",
        "optimizer = torch.optim.SGD(model.parameters(), lr=0.1, momentum=0.9)"
      ],
      "execution_count": 0,
      "outputs": []
    },
    {
      "cell_type": "code",
      "metadata": {
        "id": "gqnRzdNCPUoN",
        "colab_type": "code",
        "colab": {}
      },
      "source": [
        "# Train the network \n",
        "num_epochs = 200\n",
        "for epoch in range(num_epochs):\n",
        "    for inputs,labels in train_loader:\n",
        "        inputs = inputs.float()\n",
        "        labels = labels.float()\n",
        "        # Feed Forward\n",
        "        output = net(inputs)\n",
        "        # Loss Calculation\n",
        "        loss = criterion(output, labels)\n",
        "        # Clear the gradient buffer (we don't want to accumulate gradients)\n",
        "        optimizer.zero_grad()\n",
        "        # Backpropagation \n",
        "        loss.backward()\n",
        "        # Weight Update: w <-- w - lr * gradient\n",
        "        optimizer.step()\n",
        "        \n",
        "    #Accuracy\n",
        "    # Since we are using a sigmoid, we will need to perform some thresholding\n",
        "    output = (output>0.5).float()\n",
        "    # Accuracy: (output == labels).float().sum() / output.shape[0]\n",
        "    accuracy = (output == labels).float().mean()\n",
        "    # Print statistics \n",
        "    print(\"Epoch {}/{}, Loss: {:.3f}, Accuracy: {:.3f}\".format(epoch+1,num_epochs, loss, accuracy))"
      ],
      "execution_count": 0,
      "outputs": []
    },
    {
      "cell_type": "code",
      "metadata": {
        "id": "Y3SkSVYrPUoQ",
        "colab_type": "code",
        "colab": {}
      },
      "source": [
        ""
      ],
      "execution_count": 0,
      "outputs": []
    }
  ]
}
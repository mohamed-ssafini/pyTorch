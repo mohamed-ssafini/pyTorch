{
  "nbformat": 4,
  "nbformat_minor": 0,
  "metadata": {
    "kernelspec": {
      "display_name": "Python 3",
      "language": "python",
      "name": "python3"
    },
    "language_info": {
      "codemirror_mode": {
        "name": "ipython",
        "version": 3
      },
      "file_extension": ".py",
      "mimetype": "text/x-python",
      "name": "python",
      "nbconvert_exporter": "python",
      "pygments_lexer": "ipython3",
      "version": "3.6.5"
    },
    "colab": {
      "name": "FFNN Diabetes.ipynb",
      "provenance": [],
      "toc_visible": true,
      "include_colab_link": true
    }
  },
  "cells": [
    {
      "cell_type": "markdown",
      "metadata": {
        "id": "view-in-github",
        "colab_type": "text"
      },
      "source": [
        "<a href=\"https://colab.research.google.com/github/mohamedssafini/pyTorch/blob/master/FFNN_Diabetes.ipynb\" target=\"_parent\"><img src=\"https://colab.research.google.com/assets/colab-badge.svg\" alt=\"Open In Colab\"/></a>"
      ]
    },
    {
      "cell_type": "code",
      "metadata": {
        "id": "G5wi03KbWdsx",
        "colab_type": "code",
        "colab": {
          "base_uri": "https://localhost:8080/",
          "height": 85
        },
        "outputId": "8e3b44d8-657c-4cd0-883e-c2068e50b0e7"
      },
      "source": [
        "!nvcc --version"
      ],
      "execution_count": 1,
      "outputs": [
        {
          "output_type": "stream",
          "text": [
            "nvcc: NVIDIA (R) Cuda compiler driver\n",
            "Copyright (c) 2005-2019 NVIDIA Corporation\n",
            "Built on Sun_Jul_28_19:07:16_PDT_2019\n",
            "Cuda compilation tools, release 10.1, V10.1.243\n"
          ],
          "name": "stdout"
        }
      ]
    },
    {
      "cell_type": "code",
      "metadata": {
        "id": "Iwe455y5Wfde",
        "colab_type": "code",
        "colab": {}
      },
      "source": [
        "import torch"
      ],
      "execution_count": 0,
      "outputs": []
    },
    {
      "cell_type": "code",
      "metadata": {
        "id": "nEkSlgIYWf_5",
        "colab_type": "code",
        "colab": {
          "base_uri": "https://localhost:8080/",
          "height": 34
        },
        "outputId": "56262275-761a-43d1-9e7c-04ee3272988f"
      },
      "source": [
        "print(torch.__version__)"
      ],
      "execution_count": 3,
      "outputs": [
        {
          "output_type": "stream",
          "text": [
            "1.3.1\n"
          ],
          "name": "stdout"
        }
      ]
    },
    {
      "cell_type": "code",
      "metadata": {
        "id": "UhEYwNaeWrJi",
        "colab_type": "code",
        "colab": {
          "base_uri": "https://localhost:8080/",
          "height": 34
        },
        "outputId": "f1662d1d-8f9d-405a-9755-9e39630d4973"
      },
      "source": [
        "torch.cuda.is_available()"
      ],
      "execution_count": 4,
      "outputs": [
        {
          "output_type": "execute_result",
          "data": {
            "text/plain": [
              "False"
            ]
          },
          "metadata": {
            "tags": []
          },
          "execution_count": 4
        }
      ]
    },
    {
      "cell_type": "code",
      "metadata": {
        "id": "nreTRI0IPUnJ",
        "colab_type": "code",
        "colab": {}
      },
      "source": [
        "import numpy as np\n",
        "import torch\n",
        "import torch.nn as nn\n",
        "import pandas as pd\n",
        "from sklearn.preprocessing import StandardScaler\n",
        "from torch.utils.data import Dataset"
      ],
      "execution_count": 0,
      "outputs": []
    },
    {
      "cell_type": "code",
      "metadata": {
        "id": "s23Lf05-PUnR",
        "colab_type": "code",
        "colab": {}
      },
      "source": [
        "# Load the dataset using Pandas\n",
        "data = pd.read_csv('diabetes.csv')"
      ],
      "execution_count": 0,
      "outputs": []
    },
    {
      "cell_type": "code",
      "metadata": {
        "id": "VJduN_vGXF1V",
        "colab_type": "code",
        "colab": {
          "base_uri": "https://localhost:8080/",
          "height": 221
        },
        "outputId": "27ca83a5-1ce0-4024-ecef-b48532efe0da"
      },
      "source": [
        "data.head()"
      ],
      "execution_count": 7,
      "outputs": [
        {
          "output_type": "execute_result",
          "data": {
            "text/html": [
              "<div>\n",
              "<style scoped>\n",
              "    .dataframe tbody tr th:only-of-type {\n",
              "        vertical-align: middle;\n",
              "    }\n",
              "\n",
              "    .dataframe tbody tr th {\n",
              "        vertical-align: top;\n",
              "    }\n",
              "\n",
              "    .dataframe thead th {\n",
              "        text-align: right;\n",
              "    }\n",
              "</style>\n",
              "<table border=\"1\" class=\"dataframe\">\n",
              "  <thead>\n",
              "    <tr style=\"text-align: right;\">\n",
              "      <th></th>\n",
              "      <th>Number of times pregnant</th>\n",
              "      <th>Plasma glucose concentration</th>\n",
              "      <th>Diastolic blood pressure</th>\n",
              "      <th>Triceps skin fold thickness</th>\n",
              "      <th>2-Hour serum insulin</th>\n",
              "      <th>Body mass index</th>\n",
              "      <th>Age</th>\n",
              "      <th>Class</th>\n",
              "    </tr>\n",
              "  </thead>\n",
              "  <tbody>\n",
              "    <tr>\n",
              "      <th>0</th>\n",
              "      <td>6</td>\n",
              "      <td>148</td>\n",
              "      <td>72</td>\n",
              "      <td>35</td>\n",
              "      <td>0</td>\n",
              "      <td>33.6</td>\n",
              "      <td>50</td>\n",
              "      <td>positive</td>\n",
              "    </tr>\n",
              "    <tr>\n",
              "      <th>1</th>\n",
              "      <td>1</td>\n",
              "      <td>85</td>\n",
              "      <td>66</td>\n",
              "      <td>29</td>\n",
              "      <td>0</td>\n",
              "      <td>26.6</td>\n",
              "      <td>31</td>\n",
              "      <td>negative</td>\n",
              "    </tr>\n",
              "    <tr>\n",
              "      <th>2</th>\n",
              "      <td>8</td>\n",
              "      <td>183</td>\n",
              "      <td>64</td>\n",
              "      <td>0</td>\n",
              "      <td>0</td>\n",
              "      <td>23.3</td>\n",
              "      <td>32</td>\n",
              "      <td>positive</td>\n",
              "    </tr>\n",
              "    <tr>\n",
              "      <th>3</th>\n",
              "      <td>1</td>\n",
              "      <td>89</td>\n",
              "      <td>66</td>\n",
              "      <td>23</td>\n",
              "      <td>94</td>\n",
              "      <td>28.1</td>\n",
              "      <td>21</td>\n",
              "      <td>negative</td>\n",
              "    </tr>\n",
              "    <tr>\n",
              "      <th>4</th>\n",
              "      <td>0</td>\n",
              "      <td>137</td>\n",
              "      <td>40</td>\n",
              "      <td>35</td>\n",
              "      <td>168</td>\n",
              "      <td>43.1</td>\n",
              "      <td>33</td>\n",
              "      <td>positive</td>\n",
              "    </tr>\n",
              "  </tbody>\n",
              "</table>\n",
              "</div>"
            ],
            "text/plain": [
              "   Number of times pregnant  Plasma glucose concentration  ...  Age     Class\n",
              "0                         6                           148  ...   50  positive\n",
              "1                         1                            85  ...   31  negative\n",
              "2                         8                           183  ...   32  positive\n",
              "3                         1                            89  ...   21  negative\n",
              "4                         0                           137  ...   33  positive\n",
              "\n",
              "[5 rows x 8 columns]"
            ]
          },
          "metadata": {
            "tags": []
          },
          "execution_count": 7
        }
      ]
    },
    {
      "cell_type": "code",
      "metadata": {
        "id": "Ud5OEqPCPUnU",
        "colab_type": "code",
        "colab": {}
      },
      "source": [
        "# For x: Extract out the dataset from all the rows (all samples) and all columns except last column (all features). \n",
        "# For y: Extract out the last column (which is the label)\n",
        "# Convert both to numpy using the .values method\n",
        "x = data.iloc[:,0:-1].values\n",
        "y_string= list(data.iloc[:,-1])"
      ],
      "execution_count": 0,
      "outputs": []
    },
    {
      "cell_type": "code",
      "metadata": {
        "id": "Q4hkN8-cPUnX",
        "colab_type": "code",
        "colab": {}
      },
      "source": [
        "# Lets have a look some samples from our data\n",
        "print(x[:3])\n",
        "print(y_string[:3])"
      ],
      "execution_count": 0,
      "outputs": []
    },
    {
      "cell_type": "code",
      "metadata": {
        "id": "gljTJ3uHPUne",
        "colab_type": "code",
        "colab": {}
      },
      "source": [
        "# Our neural network only understand numbers! So convert the string to labels\n",
        "y_int = []\n",
        "for string in y_string:\n",
        "    if string == 'positive':\n",
        "        y_int.append(1)\n",
        "    else:\n",
        "        y_int.append(0)"
      ],
      "execution_count": 0,
      "outputs": []
    },
    {
      "cell_type": "code",
      "metadata": {
        "id": "unmEjU_6PUnk",
        "colab_type": "code",
        "colab": {}
      },
      "source": [
        "# Now convert to an array\n",
        "y = np.array(y_int, dtype = 'float64')"
      ],
      "execution_count": 0,
      "outputs": []
    },
    {
      "cell_type": "markdown",
      "metadata": {
        "id": "WqehT4WbPUnp",
        "colab_type": "text"
      },
      "source": [
        "### $x^{\\prime}=\\frac{x-\\mu}{\\sigma}$"
      ]
    },
    {
      "cell_type": "code",
      "metadata": {
        "id": "gtR25DpTPUns",
        "colab_type": "code",
        "colab": {}
      },
      "source": [
        "# Feature Normalization. All features should have the same range of values (-1,1)\n",
        "sc = StandardScaler()\n",
        "x = sc.fit_transform(x)"
      ],
      "execution_count": 0,
      "outputs": []
    },
    {
      "cell_type": "code",
      "metadata": {
        "id": "vHo3y7cTPUnv",
        "colab_type": "code",
        "colab": {}
      },
      "source": [
        "# Now we convert the arrays to PyTorch tensors\n",
        "x = torch.tensor(x)\n",
        "# We add an extra dimension to convert this array to 2D\n",
        "y = torch.tensor(y).unsqueeze(1)"
      ],
      "execution_count": 0,
      "outputs": []
    },
    {
      "cell_type": "code",
      "metadata": {
        "id": "QN11vH-kPUnx",
        "colab_type": "code",
        "colab": {}
      },
      "source": [
        "print(x.shape)\n",
        "print(y.shape)"
      ],
      "execution_count": 0,
      "outputs": []
    },
    {
      "cell_type": "code",
      "metadata": {
        "id": "c_mctXqoPUn1",
        "colab_type": "code",
        "colab": {}
      },
      "source": [
        "class Dataset(Dataset):\n",
        "\n",
        "    def __init__(self,x,y):\n",
        "        self.x = x\n",
        "        self.y = y\n",
        "        \n",
        "    def __getitem__(self,index):\n",
        "        # Get one item from the dataset\n",
        "        return self.x[index], self.y[index]\n",
        "    \n",
        "    def __len__(self):\n",
        "        return len(self.x)"
      ],
      "execution_count": 0,
      "outputs": []
    },
    {
      "cell_type": "code",
      "metadata": {
        "id": "is7fcvSdPUn4",
        "colab_type": "code",
        "colab": {}
      },
      "source": [
        "dataset = Dataset(x,y)"
      ],
      "execution_count": 0,
      "outputs": []
    },
    {
      "cell_type": "code",
      "metadata": {
        "id": "eNDtLQ3FPUn6",
        "colab_type": "code",
        "colab": {}
      },
      "source": [
        "len(dataset)"
      ],
      "execution_count": 0,
      "outputs": []
    },
    {
      "cell_type": "code",
      "metadata": {
        "id": "8KklmkN8PUn-",
        "colab_type": "code",
        "colab": {}
      },
      "source": [
        "# Load the data to your dataloader for batch processing and shuffling\n",
        "train_loader = torch.utils.data.DataLoader(dataset=dataset,\n",
        "                                           batch_size=32,\n",
        "                                           shuffle=True)"
      ],
      "execution_count": 0,
      "outputs": []
    },
    {
      "cell_type": "code",
      "metadata": {
        "id": "IG4p3al3PUoC",
        "colab_type": "code",
        "colab": {}
      },
      "source": [
        "# Let's have a look at the data loader\n",
        "print(\"There is {} batches in the dataset\".format(len(train_loader)))\n",
        "for (x,y) in train_loader:\n",
        "    print(\"For one iteration (batch), there is:\")\n",
        "    print(\"Data:    {}\".format(x.shape))\n",
        "    print(\"Labels:  {}\".format(y.shape))\n",
        "    break"
      ],
      "execution_count": 0,
      "outputs": []
    },
    {
      "cell_type": "markdown",
      "metadata": {
        "id": "C9PI4tnZPUoF",
        "colab_type": "text"
      },
      "source": [
        "![demo](https://user-images.githubusercontent.com/30661597/60379583-246e5e80-9a68-11e9-8b7f-a4294234c201.png)"
      ]
    },
    {
      "cell_type": "code",
      "metadata": {
        "id": "2gxUI9UwPUoG",
        "colab_type": "code",
        "colab": {}
      },
      "source": [
        "# Now let's build the above network\n",
        "class Model(nn.Module):\n",
        "    def __init__(self, input_features):\n",
        "        super(Model, self).__init__()\n",
        "        self.fc1 = nn.Linear(input_features, 5)\n",
        "        self.fc2 = nn.Linear(5, 4)\n",
        "        self.fc3 = nn.Linear(4, 3)\n",
        "        self.fc4 = nn.Linear(3, 1)\n",
        "        self.sigmoid = nn.Sigmoid()\n",
        "        self.tanh = nn.Tanh()\n",
        "\n",
        "    def forward(self, x):\n",
        "        out = self.fc1(x)\n",
        "        out = self.tanh(out)\n",
        "        out = self.fc2(out)\n",
        "        out = self.tanh(out)\n",
        "        out = self.fc3(out)\n",
        "        out = self.tanh(out)\n",
        "        out = self.fc4(out)\n",
        "        out = self.sigmoid(out)\n",
        "        return out"
      ],
      "execution_count": 0,
      "outputs": []
    },
    {
      "cell_type": "markdown",
      "metadata": {
        "id": "PkWZJpMjPUoJ",
        "colab_type": "text"
      },
      "source": [
        "$H_{p}(q)=-\\frac{1}{N} \\sum_{i=1}^{N} y_{i} \\cdot \\log \\left(p\\left(y_{i}\\right)\\right)+\\left(1-y_{i}\\right) \\cdot \\log \\left(1-p\\left(y_{i}\\right)\\right)$\n",
        "\n",
        "\n",
        "cost = -(Y * torch.log(hypothesis) + (1 - Y) * torch.log(1 - hypothesis)).mean()"
      ]
    },
    {
      "cell_type": "code",
      "metadata": {
        "id": "lV1Jeq7uPUoK",
        "colab_type": "code",
        "colab": {}
      },
      "source": [
        "# Create the network (an object of the Net class)\n",
        "net = Model(x.shape[1])\n",
        "#In Binary Cross Entropy: the input and output should have the same shape \n",
        "#size_average = True --> the losses are averaged over observations for each minibatch\n",
        "criterion = torch.nn.BCELoss(size_average=True)   \n",
        "# We will use SGD with momentum with a learning rate of 0.1\n",
        "optimizer = torch.optim.SGD(model.parameters(), lr=0.1, momentum=0.9)"
      ],
      "execution_count": 0,
      "outputs": []
    },
    {
      "cell_type": "code",
      "metadata": {
        "id": "gqnRzdNCPUoN",
        "colab_type": "code",
        "colab": {}
      },
      "source": [
        "# Train the network \n",
        "num_epochs = 200\n",
        "for epoch in range(num_epochs):\n",
        "    for inputs,labels in train_loader:\n",
        "        inputs = inputs.float()\n",
        "        labels = labels.float()\n",
        "        # Feed Forward\n",
        "        output = net(inputs)\n",
        "        # Loss Calculation\n",
        "        loss = criterion(output, labels)\n",
        "        # Clear the gradient buffer (we don't want to accumulate gradients)\n",
        "        optimizer.zero_grad()\n",
        "        # Backpropagation \n",
        "        loss.backward()\n",
        "        # Weight Update: w <-- w - lr * gradient\n",
        "        optimizer.step()\n",
        "        \n",
        "    #Accuracy\n",
        "    # Since we are using a sigmoid, we will need to perform some thresholding\n",
        "    output = (output>0.5).float()\n",
        "    # Accuracy: (output == labels).float().sum() / output.shape[0]\n",
        "    accuracy = (output == labels).float().mean()\n",
        "    # Print statistics \n",
        "    print(\"Epoch {}/{}, Loss: {:.3f}, Accuracy: {:.3f}\".format(epoch+1,num_epochs, loss, accuracy))"
      ],
      "execution_count": 0,
      "outputs": []
    },
    {
      "cell_type": "code",
      "metadata": {
        "id": "Y3SkSVYrPUoQ",
        "colab_type": "code",
        "colab": {}
      },
      "source": [
        ""
      ],
      "execution_count": 0,
      "outputs": []
    }
  ]
}
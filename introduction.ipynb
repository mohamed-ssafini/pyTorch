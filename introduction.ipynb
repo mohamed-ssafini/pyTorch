{
  "nbformat": 4,
  "nbformat_minor": 0,
  "metadata": {
    "colab": {
      "name": "Untitled0.ipynb",
      "provenance": [],
      "authorship_tag": "ABX9TyPx7RS051Ty0ogqNNgy0Vb3",
      "include_colab_link": true
    },
    "kernelspec": {
      "name": "python3",
      "display_name": "Python 3"
    }
  },
  "cells": [
    {
      "cell_type": "markdown",
      "metadata": {
        "id": "view-in-github",
        "colab_type": "text"
      },
      "source": [
        "<a href=\"https://colab.research.google.com/github/mohamedssafini/pyTorch/blob/master/introduction.ipynb\" target=\"_parent\"><img src=\"https://colab.research.google.com/assets/colab-badge.svg\" alt=\"Open In Colab\"/></a>"
      ]
    },
    {
      "cell_type": "code",
      "metadata": {
        "id": "s7eHN0WQhvyE",
        "colab_type": "code",
        "colab": {}
      },
      "source": [
        "import torch\n",
        "import torch.nn as nn\n",
        "import torch.nn.functional as F\n",
        "class MyNeuralNet(nn.Module):\n",
        "    def __init__(self, input_size, n_nodes, output_size):\n",
        "        super(MyNeuralNet, self).__init__()\n",
        "        self.operationOne = nn.Linear(input_size, n_nodes)\n",
        "        self.operationTwo = nn.Linear(n_nodes, output_size)\n",
        "    def forward(self, x):\n",
        "        x = F.relu(self.operationOne(x))\n",
        "        x = self.operationTwo(x)\n",
        "        x = F.sigmoid(x)\n",
        "        return x"
      ],
      "execution_count": 0,
      "outputs": []
    },
    {
      "cell_type": "code",
      "metadata": {
        "id": "MrjtFmHslEi6",
        "colab_type": "code",
        "colab": {}
      },
      "source": [
        "my_network = MyNeuralNet(input_size = 3, n_nodes = 2, output_size = 1)"
      ],
      "execution_count": 0,
      "outputs": []
    },
    {
      "cell_type": "code",
      "metadata": {
        "id": "8B6V0_h1sBVs",
        "colab_type": "code",
        "colab": {
          "base_uri": "https://localhost:8080/",
          "height": 34
        },
        "outputId": "a3fa53e0-7e61-437a-9284-4491e5be4818"
      },
      "source": [
        "import torch\n",
        "first_order_tensor = torch.tensor([1, 2, 3])\n",
        "print(first_order_tensor)"
      ],
      "execution_count": 5,
      "outputs": [
        {
          "output_type": "stream",
          "text": [
            "tensor([1, 2, 3])\n"
          ],
          "name": "stdout"
        }
      ]
    },
    {
      "cell_type": "code",
      "metadata": {
        "id": "ql__8SsWsCbx",
        "colab_type": "code",
        "colab": {
          "base_uri": "https://localhost:8080/",
          "height": 34
        },
        "outputId": "30ef709b-5d6d-4b4f-c0d8-acd39b258e0e"
      },
      "source": [
        "print(first_order_tensor[0])"
      ],
      "execution_count": 6,
      "outputs": [
        {
          "output_type": "stream",
          "text": [
            "tensor(1)\n"
          ],
          "name": "stdout"
        }
      ]
    },
    {
      "cell_type": "code",
      "metadata": {
        "id": "wALtuLFoycrg",
        "colab_type": "code",
        "colab": {
          "base_uri": "https://localhost:8080/",
          "height": 34
        },
        "outputId": "b556be82-5917-4540-9b53-7d1d43526e30"
      },
      "source": [
        "print(first_order_tensor[0:2])"
      ],
      "execution_count": 7,
      "outputs": [
        {
          "output_type": "stream",
          "text": [
            "tensor([1, 2])\n"
          ],
          "name": "stdout"
        }
      ]
    },
    {
      "cell_type": "code",
      "metadata": {
        "id": "D2ZngdDsye44",
        "colab_type": "code",
        "colab": {
          "base_uri": "https://localhost:8080/",
          "height": 34
        },
        "outputId": "fbd89110-5ab9-4f1b-83d5-75f5dacc56ab"
      },
      "source": [
        "print(first_order_tensor[1:])"
      ],
      "execution_count": 8,
      "outputs": [
        {
          "output_type": "stream",
          "text": [
            "tensor([2, 3])\n"
          ],
          "name": "stdout"
        }
      ]
    },
    {
      "cell_type": "code",
      "metadata": {
        "id": "hVFriCuKyfJ2",
        "colab_type": "code",
        "colab": {
          "base_uri": "https://localhost:8080/",
          "height": 51
        },
        "outputId": "1beb5ede-f681-427a-f15c-9c9ceb760c79"
      },
      "source": [
        "second_order_tensor = torch.tensor([ [ 11, 12, 13 ],\n",
        " [ 21, 22, 23 ]\n",
        " ])\n",
        "print(second_order_tensor)"
      ],
      "execution_count": 11,
      "outputs": [
        {
          "output_type": "stream",
          "text": [
            "tensor([[11, 12, 13],\n",
            "        [21, 22, 23]])\n"
          ],
          "name": "stdout"
        }
      ]
    },
    {
      "cell_type": "code",
      "metadata": {
        "id": "mSQ8Kl6HyfYd",
        "colab_type": "code",
        "colab": {
          "base_uri": "https://localhost:8080/",
          "height": 34
        },
        "outputId": "4c142238-566f-4b48-a160-c871531de830"
      },
      "source": [
        "print(second_order_tensor[0, 1])"
      ],
      "execution_count": 12,
      "outputs": [
        {
          "output_type": "stream",
          "text": [
            "tensor(12)\n"
          ],
          "name": "stdout"
        }
      ]
    },
    {
      "cell_type": "code",
      "metadata": {
        "id": "N-YQ9AhG8Cbj",
        "colab_type": "code",
        "colab": {}
      },
      "source": [
        "fourth_order_tensor = torch.tensor(\n",
        "[\n",
        " [\n",
        " [\n",
        " [1111, 1112],\n",
        " [1121, 1122]\n",
        " ],\n",
        " [\n",
        " [1211, 1212],\n",
        " [1221, 1222]\n",
        " ]\n",
        " ],\n",
        " [\n",
        " [\n",
        " [2111, 2112],\n",
        " [2121, 2122]\n",
        " ],\n",
        " [\n",
        " [2211, 2212],\n",
        " [2221, 2222]\n",
        " ]\n",
        " ]\n",
        "])\n"
      ],
      "execution_count": 0,
      "outputs": []
    },
    {
      "cell_type": "code",
      "metadata": {
        "id": "Ei2SYtT8QtbW",
        "colab_type": "code",
        "colab": {
          "base_uri": "https://localhost:8080/",
          "height": 221
        },
        "outputId": "f5838690-e4e4-483a-d682-cf4ea7bba1a1"
      },
      "source": [
        "print(fourth_order_tensor)"
      ],
      "execution_count": 20,
      "outputs": [
        {
          "output_type": "stream",
          "text": [
            "tensor([[[[1111, 1112],\n",
            "          [1121, 1122]],\n",
            "\n",
            "         [[1211, 1212],\n",
            "          [1221, 1222]]],\n",
            "\n",
            "\n",
            "        [[[2111, 2112],\n",
            "          [2121, 2122]],\n",
            "\n",
            "         [[2211, 2212],\n",
            "          [2221, 2222]]]])\n"
          ],
          "name": "stdout"
        }
      ]
    },
    {
      "cell_type": "code",
      "metadata": {
        "id": "2gUZaZFo8wue",
        "colab_type": "code",
        "colab": {
          "base_uri": "https://localhost:8080/",
          "height": 34
        },
        "outputId": "f87d3716-39ea-4138-8d8f-8062db72e64a"
      },
      "source": [
        "print(fourth_order_tensor[1,0,1,1])"
      ],
      "execution_count": 18,
      "outputs": [
        {
          "output_type": "stream",
          "text": [
            "tensor(2122)\n"
          ],
          "name": "stdout"
        }
      ]
    },
    {
      "cell_type": "code",
      "metadata": {
        "id": "yLLQEE5Y-NxB",
        "colab_type": "code",
        "colab": {
          "base_uri": "https://localhost:8080/",
          "height": 34
        },
        "outputId": "c35dd0b9-9566-42bc-cd0a-6ca932f0a398"
      },
      "source": [
        "my_tensor = torch.tensor([1, 2, 3, 4, 5])\n",
        "print(my_tensor.size())"
      ],
      "execution_count": 19,
      "outputs": [
        {
          "output_type": "stream",
          "text": [
            "torch.Size([5])\n"
          ],
          "name": "stdout"
        }
      ]
    },
    {
      "cell_type": "code",
      "metadata": {
        "id": "LRnT2YMaL-t2",
        "colab_type": "code",
        "colab": {
          "base_uri": "https://localhost:8080/",
          "height": 34
        },
        "outputId": "bb1a3ccf-3062-40ec-cacf-af9b4ad6504d"
      },
      "source": [
        "print(fourth_order_tensor.size())"
      ],
      "execution_count": 21,
      "outputs": [
        {
          "output_type": "stream",
          "text": [
            "torch.Size([2, 2, 2, 2])\n"
          ],
          "name": "stdout"
        }
      ]
    },
    {
      "cell_type": "code",
      "metadata": {
        "id": "MTPpAieXQ-Do",
        "colab_type": "code",
        "colab": {
          "base_uri": "https://localhost:8080/",
          "height": 85
        },
        "outputId": "953ab563-15ad-47a4-bb43-4c77ff8db451"
      },
      "source": [
        "random_tensor = torch.rand([4, 2])\n",
        "print(random_tensor)"
      ],
      "execution_count": 22,
      "outputs": [
        {
          "output_type": "stream",
          "text": [
            "tensor([[0.9708, 0.1590],\n",
            "        [0.2331, 0.4121],\n",
            "        [0.8751, 0.0032],\n",
            "        [0.8992, 0.8301]])\n"
          ],
          "name": "stdout"
        }
      ]
    },
    {
      "cell_type": "code",
      "metadata": {
        "id": "LTDHh-vTRlSg",
        "colab_type": "code",
        "colab": {
          "base_uri": "https://localhost:8080/",
          "height": 51
        },
        "outputId": "71c01ac3-7ab1-4b87-bda7-55f3805f2303"
      },
      "source": [
        "random_tensor.view([2, 4])"
      ],
      "execution_count": 23,
      "outputs": [
        {
          "output_type": "execute_result",
          "data": {
            "text/plain": [
              "tensor([[0.9708, 0.1590, 0.2331, 0.4121],\n",
              "        [0.8751, 0.0032, 0.8992, 0.8301]])"
            ]
          },
          "metadata": {
            "tags": []
          },
          "execution_count": 23
        }
      ]
    },
    {
      "cell_type": "code",
      "metadata": {
        "id": "hdwDkMuNRzd6",
        "colab_type": "code",
        "colab": {}
      },
      "source": [
        "random_tensor = torch.rand([4, 2, 4])"
      ],
      "execution_count": 0,
      "outputs": []
    },
    {
      "cell_type": "code",
      "metadata": {
        "id": "IKU2fjCcSHO4",
        "colab_type": "code",
        "colab": {
          "base_uri": "https://localhost:8080/",
          "height": 204
        },
        "outputId": "df354657-12be-4e1d-a34c-cdbc898b8f1e"
      },
      "source": [
        "print(random_tensor)"
      ],
      "execution_count": 26,
      "outputs": [
        {
          "output_type": "stream",
          "text": [
            "tensor([[[0.8808, 0.4432, 0.3066, 0.2252],\n",
            "         [0.1348, 0.3904, 0.7845, 0.2285]],\n",
            "\n",
            "        [[0.2007, 0.7031, 0.6942, 0.7205],\n",
            "         [0.5339, 0.7711, 0.2259, 0.5736]],\n",
            "\n",
            "        [[0.0585, 0.7303, 0.6465, 0.6703],\n",
            "         [0.7822, 0.6274, 0.1264, 0.5894]],\n",
            "\n",
            "        [[0.9979, 0.8437, 0.5010, 0.7928],\n",
            "         [0.2475, 0.6575, 0.8692, 0.1799]]])\n"
          ],
          "name": "stdout"
        }
      ]
    },
    {
      "cell_type": "code",
      "metadata": {
        "id": "xkgTaaVySJDM",
        "colab_type": "code",
        "colab": {
          "base_uri": "https://localhost:8080/",
          "height": 170
        },
        "outputId": "ae845bb6-93b0-4669-ba2a-650c02bca973"
      },
      "source": [
        "random_tensor.view([2, 4, -1])"
      ],
      "execution_count": 27,
      "outputs": [
        {
          "output_type": "execute_result",
          "data": {
            "text/plain": [
              "tensor([[[0.8808, 0.4432, 0.3066, 0.2252],\n",
              "         [0.1348, 0.3904, 0.7845, 0.2285],\n",
              "         [0.2007, 0.7031, 0.6942, 0.7205],\n",
              "         [0.5339, 0.7711, 0.2259, 0.5736]],\n",
              "\n",
              "        [[0.0585, 0.7303, 0.6465, 0.6703],\n",
              "         [0.7822, 0.6274, 0.1264, 0.5894],\n",
              "         [0.9979, 0.8437, 0.5010, 0.7928],\n",
              "         [0.2475, 0.6575, 0.8692, 0.1799]]])"
            ]
          },
          "metadata": {
            "tags": []
          },
          "execution_count": 27
        }
      ]
    },
    {
      "cell_type": "code",
      "metadata": {
        "id": "w9nH9s9zSd4i",
        "colab_type": "code",
        "colab": {
          "base_uri": "https://localhost:8080/",
          "height": 170
        },
        "outputId": "1c3460dd-13da-40a4-8012-8a472010d60b"
      },
      "source": [
        "random_tensor.view([2, -1, 4])"
      ],
      "execution_count": 28,
      "outputs": [
        {
          "output_type": "execute_result",
          "data": {
            "text/plain": [
              "tensor([[[0.8808, 0.4432, 0.3066, 0.2252],\n",
              "         [0.1348, 0.3904, 0.7845, 0.2285],\n",
              "         [0.2007, 0.7031, 0.6942, 0.7205],\n",
              "         [0.5339, 0.7711, 0.2259, 0.5736]],\n",
              "\n",
              "        [[0.0585, 0.7303, 0.6465, 0.6703],\n",
              "         [0.7822, 0.6274, 0.1264, 0.5894],\n",
              "         [0.9979, 0.8437, 0.5010, 0.7928],\n",
              "         [0.2475, 0.6575, 0.8692, 0.1799]]])"
            ]
          },
          "metadata": {
            "tags": []
          },
          "execution_count": 28
        }
      ]
    },
    {
      "cell_type": "code",
      "metadata": {
        "id": "wHrd2CJrSn0h",
        "colab_type": "code",
        "colab": {
          "base_uri": "https://localhost:8080/",
          "height": 34
        },
        "outputId": "a6bb789b-4f73-4b24-f582-53e9a2532324"
      },
      "source": [
        "x = torch.tensor([5, 3])\n",
        "y = torch.tensor([3, 2])\n",
        "torch.add(x, y)"
      ],
      "execution_count": 29,
      "outputs": [
        {
          "output_type": "execute_result",
          "data": {
            "text/plain": [
              "tensor([8, 5])"
            ]
          },
          "metadata": {
            "tags": []
          },
          "execution_count": 29
        }
      ]
    },
    {
      "cell_type": "code",
      "metadata": {
        "id": "ICE7F-NsU90w",
        "colab_type": "code",
        "colab": {
          "base_uri": "https://localhost:8080/",
          "height": 34
        },
        "outputId": "c56f612a-03f1-4b92-aa1b-309d7a3161f3"
      },
      "source": [
        "torch.sub(x, y)"
      ],
      "execution_count": 30,
      "outputs": [
        {
          "output_type": "execute_result",
          "data": {
            "text/plain": [
              "tensor([2, 1])"
            ]
          },
          "metadata": {
            "tags": []
          },
          "execution_count": 30
        }
      ]
    },
    {
      "cell_type": "code",
      "metadata": {
        "id": "OcxdNaV0VE_C",
        "colab_type": "code",
        "colab": {
          "base_uri": "https://localhost:8080/",
          "height": 34
        },
        "outputId": "e48b9329-e63e-4d58-a7a4-ab9146794ef4"
      },
      "source": [
        "torch.mul(x, y)"
      ],
      "execution_count": 31,
      "outputs": [
        {
          "output_type": "execute_result",
          "data": {
            "text/plain": [
              "tensor([15,  6])"
            ]
          },
          "metadata": {
            "tags": []
          },
          "execution_count": 31
        }
      ]
    },
    {
      "cell_type": "code",
      "metadata": {
        "id": "NQa2744aVMU5",
        "colab_type": "code",
        "colab": {
          "base_uri": "https://localhost:8080/",
          "height": 34
        },
        "outputId": "28818982-a7b9-41fb-c87c-cfe1b4f4c7dc"
      },
      "source": [
        "x + y"
      ],
      "execution_count": 32,
      "outputs": [
        {
          "output_type": "execute_result",
          "data": {
            "text/plain": [
              "tensor([8, 5])"
            ]
          },
          "metadata": {
            "tags": []
          },
          "execution_count": 32
        }
      ]
    },
    {
      "cell_type": "code",
      "metadata": {
        "id": "Xo8UlIZ8VRkW",
        "colab_type": "code",
        "colab": {
          "base_uri": "https://localhost:8080/",
          "height": 34
        },
        "outputId": "ffde9332-ac03-4cf2-9e9f-03d3015c0e77"
      },
      "source": [
        "torch.div(x, y)"
      ],
      "execution_count": 33,
      "outputs": [
        {
          "output_type": "execute_result",
          "data": {
            "text/plain": [
              "tensor([1, 1])"
            ]
          },
          "metadata": {
            "tags": []
          },
          "execution_count": 33
        }
      ]
    },
    {
      "cell_type": "code",
      "metadata": {
        "id": "gFhIQSW6VaMI",
        "colab_type": "code",
        "colab": {
          "base_uri": "https://localhost:8080/",
          "height": 34
        },
        "outputId": "13d4e6f7-cd8d-4e24-e019-c1c92ffef9a7"
      },
      "source": [
        "torch.matmul(x, y)"
      ],
      "execution_count": 34,
      "outputs": [
        {
          "output_type": "execute_result",
          "data": {
            "text/plain": [
              "tensor(21)"
            ]
          },
          "metadata": {
            "tags": []
          },
          "execution_count": 34
        }
      ]
    },
    {
      "cell_type": "code",
      "metadata": {
        "id": "3E2RopetVsDQ",
        "colab_type": "code",
        "colab": {
          "base_uri": "https://localhost:8080/",
          "height": 34
        },
        "outputId": "6d9a085f-0f61-4a0a-ed18-17ad9978ef02"
      },
      "source": [
        "x @ y"
      ],
      "execution_count": 35,
      "outputs": [
        {
          "output_type": "execute_result",
          "data": {
            "text/plain": [
              "tensor(21)"
            ]
          },
          "metadata": {
            "tags": []
          },
          "execution_count": 35
        }
      ]
    },
    {
      "cell_type": "code",
      "metadata": {
        "id": "vZOyC5qIVxWv",
        "colab_type": "code",
        "colab": {}
      },
      "source": [
        ""
      ],
      "execution_count": 0,
      "outputs": []
    }
  ]
}
{
  "nbformat": 4,
  "nbformat_minor": 0,
  "metadata": {
    "kernelspec": {
      "name": "python3",
      "display_name": "Python 3"
    },
    "language_info": {
      "codemirror_mode": {
        "name": "ipython",
        "version": 3
      },
      "file_extension": ".py",
      "mimetype": "text/x-python",
      "name": "python",
      "nbconvert_exporter": "python",
      "pygments_lexer": "ipython3",
      "version": "3.6.5"
    },
    "colab": {
      "name": "Tensors and Operations.ipynb",
      "provenance": [],
      "toc_visible": true,
      "include_colab_link": true
    },
    "accelerator": "GPU"
  },
  "cells": [
    {
      "cell_type": "markdown",
      "metadata": {
        "id": "view-in-github",
        "colab_type": "text"
      },
      "source": [
        "<a href=\"https://colab.research.google.com/github/mohamedssafini/pyTorch/blob/master/Tensors_and_Operations.ipynb\" target=\"_parent\"><img src=\"https://colab.research.google.com/assets/colab-badge.svg\" alt=\"Open In Colab\"/></a>"
      ]
    },
    {
      "cell_type": "code",
      "metadata": {
        "id": "OP-gkvd6ts42",
        "colab_type": "code",
        "outputId": "69ead247-399a-4be9-bafc-b58404a034d0",
        "colab": {
          "base_uri": "https://localhost:8080/",
          "height": 85
        }
      },
      "source": [
        "!nvcc --version"
      ],
      "execution_count": 26,
      "outputs": [
        {
          "output_type": "stream",
          "text": [
            "nvcc: NVIDIA (R) Cuda compiler driver\n",
            "Copyright (c) 2005-2018 NVIDIA Corporation\n",
            "Built on Sat_Aug_25_21:08:01_CDT_2018\n",
            "Cuda compilation tools, release 10.0, V10.0.130\n"
          ],
          "name": "stdout"
        }
      ]
    },
    {
      "cell_type": "code",
      "metadata": {
        "id": "y8AqZVECtaVy",
        "colab_type": "code",
        "colab": {}
      },
      "source": [
        "import torch"
      ],
      "execution_count": 0,
      "outputs": []
    },
    {
      "cell_type": "code",
      "metadata": {
        "id": "PptDXvjuudhW",
        "colab_type": "code",
        "outputId": "a6b3f48a-8554-491d-ff99-a2fac8572d46",
        "colab": {
          "base_uri": "https://localhost:8080/",
          "height": 34
        }
      },
      "source": [
        "print(torch.__version__)"
      ],
      "execution_count": 28,
      "outputs": [
        {
          "output_type": "stream",
          "text": [
            "1.3.1\n"
          ],
          "name": "stdout"
        }
      ]
    },
    {
      "cell_type": "code",
      "metadata": {
        "id": "_dg0ST-hh20g",
        "colab_type": "code",
        "colab": {
          "base_uri": "https://localhost:8080/",
          "height": 34
        },
        "outputId": "0f60a2c9-b001-48d7-e949-c5b8bed1f13b"
      },
      "source": [
        "torch.cuda.is_available()"
      ],
      "execution_count": 29,
      "outputs": [
        {
          "output_type": "execute_result",
          "data": {
            "text/plain": [
              "True"
            ]
          },
          "metadata": {
            "tags": []
          },
          "execution_count": 29
        }
      ]
    },
    {
      "cell_type": "markdown",
      "metadata": {
        "id": "XDOrXfhgtaV4",
        "colab_type": "text"
      },
      "source": [
        "# Torch Tensors"
      ]
    },
    {
      "cell_type": "code",
      "metadata": {
        "id": "v7No6ZyTtaV5",
        "colab_type": "code",
        "outputId": "2da47cd6-2d2a-43f8-c2dd-39b6c633a454",
        "colab": {
          "base_uri": "https://localhost:8080/",
          "height": 34
        }
      },
      "source": [
        "#This is a 1-D Tensor\n",
        "a = torch.tensor([2,2,1])\n",
        "print(a)"
      ],
      "execution_count": 5,
      "outputs": [
        {
          "output_type": "stream",
          "text": [
            "tensor([2, 2, 1])\n"
          ],
          "name": "stdout"
        }
      ]
    },
    {
      "cell_type": "code",
      "metadata": {
        "id": "mvXMc6ERtaV9",
        "colab_type": "code",
        "outputId": "84e059f7-ba9c-48a0-c788-3743bca0bb24",
        "colab": {
          "base_uri": "https://localhost:8080/",
          "height": 85
        }
      },
      "source": [
        "#This is a 2-D Tensor\n",
        "b = torch.tensor([[2,1,4],[3,5,4],[1,2,0],[4,3,2]])\n",
        "print(b)"
      ],
      "execution_count": 7,
      "outputs": [
        {
          "output_type": "stream",
          "text": [
            "tensor([[2, 1, 4],\n",
            "        [3, 5, 4],\n",
            "        [1, 2, 0],\n",
            "        [4, 3, 2]])\n"
          ],
          "name": "stdout"
        }
      ]
    },
    {
      "cell_type": "code",
      "metadata": {
        "id": "1mYWQ9-JtaWD",
        "colab_type": "code",
        "outputId": "26142c54-b6f5-4f59-a266-46f4746ee886",
        "colab": {
          "base_uri": "https://localhost:8080/",
          "height": 85
        }
      },
      "source": [
        "#The size of the tensors\n",
        "print(a.shape)\n",
        "print(b.shape)\n",
        "print(a.size())\n",
        "print(b.size())"
      ],
      "execution_count": 8,
      "outputs": [
        {
          "output_type": "stream",
          "text": [
            "torch.Size([3])\n",
            "torch.Size([4, 3])\n",
            "torch.Size([3])\n",
            "torch.Size([4, 3])\n"
          ],
          "name": "stdout"
        }
      ]
    },
    {
      "cell_type": "code",
      "metadata": {
        "id": "UPdOH0wgtaWH",
        "colab_type": "code",
        "outputId": "c9ff6a37-fdf4-4ed4-aaaf-f4fbf5474fd0",
        "colab": {
          "base_uri": "https://localhost:8080/",
          "height": 34
        }
      },
      "source": [
        "#Get the height/number of rows of b\n",
        "print(b.shape[0])"
      ],
      "execution_count": 9,
      "outputs": [
        {
          "output_type": "stream",
          "text": [
            "4\n"
          ],
          "name": "stdout"
        }
      ]
    },
    {
      "cell_type": "code",
      "metadata": {
        "id": "lT6FxPoZi0oY",
        "colab_type": "code",
        "colab": {
          "base_uri": "https://localhost:8080/",
          "height": 34
        },
        "outputId": "bc0fcdf4-cee1-413b-df36-78a51dc91f26"
      },
      "source": [
        "print(b.shape[1])"
      ],
      "execution_count": 10,
      "outputs": [
        {
          "output_type": "stream",
          "text": [
            "3\n"
          ],
          "name": "stdout"
        }
      ]
    },
    {
      "cell_type": "code",
      "metadata": {
        "id": "fv745lEwtaWK",
        "colab_type": "code",
        "colab": {
          "base_uri": "https://localhost:8080/",
          "height": 85
        },
        "outputId": "c7149461-b24c-4739-f7aa-ea900b3c8418"
      },
      "source": [
        "c = torch.FloatTensor([[2,1,4],[3,5,4],[1,2,0],[4,3,2]])\n",
        "#or we can do\n",
        "#c = torch.tensor([2,2,1], dtype = torch.float)\n",
        "print(c)"
      ],
      "execution_count": 13,
      "outputs": [
        {
          "output_type": "stream",
          "text": [
            "tensor([[2., 1., 4.],\n",
            "        [3., 5., 4.],\n",
            "        [1., 2., 0.],\n",
            "        [4., 3., 2.]])\n"
          ],
          "name": "stdout"
        }
      ]
    },
    {
      "cell_type": "code",
      "metadata": {
        "id": "fQnMSFLrtaWN",
        "colab_type": "code",
        "colab": {
          "base_uri": "https://localhost:8080/",
          "height": 85
        },
        "outputId": "d5c12850-458c-4351-9ea2-1b69fa23423c"
      },
      "source": [
        "d = torch.DoubleTensor([[2,1,4],[3,5,4],[1,2,0],[4,3,2]])\n",
        "#or we can do\n",
        "#d = torch.tensor([2,2,1], dtype = torch.double)\n",
        "print(d)"
      ],
      "execution_count": 15,
      "outputs": [
        {
          "output_type": "stream",
          "text": [
            "tensor([[2., 1., 4.],\n",
            "        [3., 5., 4.],\n",
            "        [1., 2., 0.],\n",
            "        [4., 3., 2.]], dtype=torch.float64)\n"
          ],
          "name": "stdout"
        }
      ]
    },
    {
      "cell_type": "code",
      "metadata": {
        "id": "QnoE6Fm0taWU",
        "colab_type": "code",
        "outputId": "bc695832-413c-4575-b8e5-6ec2412fc33c",
        "colab": {
          "base_uri": "https://localhost:8080/",
          "height": 102
        }
      },
      "source": [
        "print(c)\n",
        "print(c.dtype)"
      ],
      "execution_count": 16,
      "outputs": [
        {
          "output_type": "stream",
          "text": [
            "tensor([[2., 1., 4.],\n",
            "        [3., 5., 4.],\n",
            "        [1., 2., 0.],\n",
            "        [4., 3., 2.]])\n",
            "torch.float32\n"
          ],
          "name": "stdout"
        }
      ]
    },
    {
      "cell_type": "code",
      "metadata": {
        "id": "oYySjov6taWY",
        "colab_type": "code",
        "outputId": "80a22084-ee74-4437-82da-a1eb426bf5f4",
        "colab": {
          "base_uri": "https://localhost:8080/",
          "height": 102
        }
      },
      "source": [
        "print(d)\n",
        "print(d.dtype)"
      ],
      "execution_count": 17,
      "outputs": [
        {
          "output_type": "stream",
          "text": [
            "tensor([[2., 1., 4.],\n",
            "        [3., 5., 4.],\n",
            "        [1., 2., 0.],\n",
            "        [4., 3., 2.]], dtype=torch.float64)\n",
            "torch.float64\n"
          ],
          "name": "stdout"
        }
      ]
    },
    {
      "cell_type": "code",
      "metadata": {
        "id": "YUFdeZE8taWb",
        "colab_type": "code",
        "outputId": "6e37a2c0-70aa-455d-a08d-8cdcea81a8e3",
        "colab": {
          "base_uri": "https://localhost:8080/",
          "height": 34
        }
      },
      "source": [
        "print(c.mean())"
      ],
      "execution_count": 18,
      "outputs": [
        {
          "output_type": "stream",
          "text": [
            "tensor(2.5833)\n"
          ],
          "name": "stdout"
        }
      ]
    },
    {
      "cell_type": "code",
      "metadata": {
        "id": "0LWrxLhotaWe",
        "colab_type": "code",
        "outputId": "cd4bfd3f-5fbb-4790-d9d7-9fc0a7d8d567",
        "colab": {}
      },
      "source": [
        "print(d.mean())"
      ],
      "execution_count": 0,
      "outputs": [
        {
          "output_type": "stream",
          "text": [
            "tensor(2.5833, dtype=torch.float64)\n"
          ],
          "name": "stdout"
        }
      ]
    },
    {
      "cell_type": "code",
      "metadata": {
        "id": "DCESddC2taWk",
        "colab_type": "code",
        "outputId": "ffae8c54-a7e6-43d0-8c5e-3d4ce609dc83",
        "colab": {}
      },
      "source": [
        "print(c.std())"
      ],
      "execution_count": 0,
      "outputs": [
        {
          "output_type": "stream",
          "text": [
            "tensor(1.5050)\n"
          ],
          "name": "stdout"
        }
      ]
    },
    {
      "cell_type": "code",
      "metadata": {
        "id": "I9JRf4bQtaWp",
        "colab_type": "code",
        "outputId": "a0887204-f458-4c29-c1fd-9a83d4d71d48",
        "colab": {}
      },
      "source": [
        "print(d.std())"
      ],
      "execution_count": 0,
      "outputs": [
        {
          "output_type": "stream",
          "text": [
            "tensor(1.5050, dtype=torch.float64)\n"
          ],
          "name": "stdout"
        }
      ]
    },
    {
      "cell_type": "code",
      "metadata": {
        "id": "mo-tNJb8taWs",
        "colab_type": "code",
        "outputId": "b3623277-6fad-4c80-d300-daaacc27c0e0",
        "colab": {}
      },
      "source": [
        "#Reshape b\n",
        "#Note: If one of the dimensions is -1, its size can be inferred\n",
        "print(b.view(-1,1))\n",
        "print(b.view(12))\n",
        "print(b.view(-1,4))\n",
        "print(b.view(3,4))\n",
        "#Assign b a new shape\n",
        "b = b.view(1,-1)\n",
        "print(b)\n",
        "print(b.shape)\n",
        "#We can even reshape 3D tensors\n",
        "print('\\n')\n",
        "#Create a 3D Tensor with 2 channels, 3 rows and 4 columns (channles,rows,columns)\n",
        "three_dim = torch.randn(2, 3, 4)\n",
        "print('\\n')\n",
        "print(three_dim)\n",
        "print(three_dim.view(2, 12))  # Reshape to 2 rows, 12 columns\n",
        "print(three_dim.view(2, -1))"
      ],
      "execution_count": 0,
      "outputs": [
        {
          "output_type": "stream",
          "text": [
            "tensor([[ 2],\n",
            "        [ 1],\n",
            "        [ 4],\n",
            "        [ 3],\n",
            "        [ 5],\n",
            "        [ 4],\n",
            "        [ 1],\n",
            "        [ 2],\n",
            "        [ 0],\n",
            "        [ 4],\n",
            "        [ 3],\n",
            "        [ 2]])\n",
            "tensor([ 2,  1,  4,  3,  5,  4,  1,  2,  0,  4,  3,  2])\n",
            "tensor([[ 2,  1,  4,  3],\n",
            "        [ 5,  4,  1,  2],\n",
            "        [ 0,  4,  3,  2]])\n",
            "tensor([[ 2,  1,  4,  3],\n",
            "        [ 5,  4,  1,  2],\n",
            "        [ 0,  4,  3,  2]])\n",
            "tensor([[ 2,  1,  4,  3,  5,  4,  1,  2,  0,  4,  3,  2]])\n",
            "torch.Size([1, 12])\n",
            "\n",
            "\n",
            "\n",
            "\n",
            "tensor([[[ 0.2452, -0.2727, -1.2520, -2.5308],\n",
            "         [-0.1989, -1.1197,  0.6911, -0.1573],\n",
            "         [-0.1419, -0.1570,  0.1724, -0.8731]],\n",
            "\n",
            "        [[ 0.3698,  1.7548, -0.0158, -1.9778],\n",
            "         [ 1.7497,  0.0472,  0.7746,  0.6194],\n",
            "         [ 0.0874,  1.0405,  0.0450, -0.6311]]])\n",
            "tensor([[ 0.2452, -0.2727, -1.2520, -2.5308, -0.1989, -1.1197,  0.6911,\n",
            "         -0.1573, -0.1419, -0.1570,  0.1724, -0.8731],\n",
            "        [ 0.3698,  1.7548, -0.0158, -1.9778,  1.7497,  0.0472,  0.7746,\n",
            "          0.6194,  0.0874,  1.0405,  0.0450, -0.6311]])\n",
            "tensor([[ 0.2452, -0.2727, -1.2520, -2.5308, -0.1989, -1.1197,  0.6911,\n",
            "         -0.1573, -0.1419, -0.1570,  0.1724, -0.8731],\n",
            "        [ 0.3698,  1.7548, -0.0158, -1.9778,  1.7497,  0.0472,  0.7746,\n",
            "          0.6194,  0.0874,  1.0405,  0.0450, -0.6311]])\n"
          ],
          "name": "stdout"
        }
      ]
    },
    {
      "cell_type": "code",
      "metadata": {
        "id": "cqacqZlv2-Hy",
        "colab_type": "code",
        "colab": {
          "base_uri": "https://localhost:8080/",
          "height": 85
        },
        "outputId": "15e0e906-fb4a-438b-d39f-3414cc8aa84f"
      },
      "source": [
        "print(b)"
      ],
      "execution_count": 35,
      "outputs": [
        {
          "output_type": "stream",
          "text": [
            "tensor([[2, 1, 4],\n",
            "        [3, 5, 4],\n",
            "        [1, 2, 0],\n",
            "        [4, 3, 2]])\n"
          ],
          "name": "stdout"
        }
      ]
    },
    {
      "cell_type": "code",
      "metadata": {
        "id": "toOsr6323GDb",
        "colab_type": "code",
        "colab": {
          "base_uri": "https://localhost:8080/",
          "height": 68
        },
        "outputId": "908faa60-98f5-4693-9ec9-04c923bb357a"
      },
      "source": [
        "print(b.view(-1,4))"
      ],
      "execution_count": 36,
      "outputs": [
        {
          "output_type": "stream",
          "text": [
            "tensor([[2, 1, 4, 3],\n",
            "        [5, 4, 1, 2],\n",
            "        [0, 4, 3, 2]])\n"
          ],
          "name": "stdout"
        }
      ]
    },
    {
      "cell_type": "code",
      "metadata": {
        "id": "YfcDyDcZ3JO1",
        "colab_type": "code",
        "colab": {
          "base_uri": "https://localhost:8080/",
          "height": 85
        },
        "outputId": "a2ec1114-0931-490f-8c31-d5a118244ddd"
      },
      "source": [
        "print(b)"
      ],
      "execution_count": 37,
      "outputs": [
        {
          "output_type": "stream",
          "text": [
            "tensor([[2, 1, 4],\n",
            "        [3, 5, 4],\n",
            "        [1, 2, 0],\n",
            "        [4, 3, 2]])\n"
          ],
          "name": "stdout"
        }
      ]
    },
    {
      "cell_type": "code",
      "metadata": {
        "id": "Htg90KdV3aqb",
        "colab_type": "code",
        "colab": {
          "base_uri": "https://localhost:8080/",
          "height": 51
        },
        "outputId": "286e7f5f-9ece-482a-ca84-53ead6a5ea8b"
      },
      "source": [
        "b = b.view(1,-1)\n",
        "print(b)\n",
        "print(b.shape)"
      ],
      "execution_count": 38,
      "outputs": [
        {
          "output_type": "stream",
          "text": [
            "tensor([[2, 1, 4, 3, 5, 4, 1, 2, 0, 4, 3, 2]])\n",
            "torch.Size([1, 12])\n"
          ],
          "name": "stdout"
        }
      ]
    },
    {
      "cell_type": "code",
      "metadata": {
        "id": "DK3MN6hz3gbe",
        "colab_type": "code",
        "colab": {
          "base_uri": "https://localhost:8080/",
          "height": 34
        },
        "outputId": "35eb86e0-9ff5-4757-a5fd-5b5e1297e0db"
      },
      "source": [
        "print(b)"
      ],
      "execution_count": 39,
      "outputs": [
        {
          "output_type": "stream",
          "text": [
            "tensor([[2, 1, 4, 3, 5, 4, 1, 2, 0, 4, 3, 2]])\n"
          ],
          "name": "stdout"
        }
      ]
    },
    {
      "cell_type": "code",
      "metadata": {
        "id": "M6Gz19K7taWw",
        "colab_type": "code",
        "outputId": "67fb7cfd-b89b-41f2-aa70-a7b5e9c60f93",
        "colab": {
          "base_uri": "https://localhost:8080/",
          "height": 85
        }
      },
      "source": [
        "#Create a matrix with random numbers between 0 and 1\n",
        "r = torch.rand(4,4)\n",
        "print(r)"
      ],
      "execution_count": 40,
      "outputs": [
        {
          "output_type": "stream",
          "text": [
            "tensor([[0.5749, 0.5111, 0.2825, 0.2025],\n",
            "        [0.2968, 0.3057, 0.2402, 0.8049],\n",
            "        [0.1609, 0.9877, 0.4139, 0.0531],\n",
            "        [0.0139, 0.5261, 0.9566, 0.2864]])\n"
          ],
          "name": "stdout"
        }
      ]
    },
    {
      "cell_type": "code",
      "metadata": {
        "id": "TWs97GgMtaW0",
        "colab_type": "code",
        "outputId": "72e1c233-3c3b-46aa-c1be-1c6302c5d0cc",
        "colab": {
          "base_uri": "https://localhost:8080/",
          "height": 102
        }
      },
      "source": [
        "#Create a matrix with random numbers taken from a normal distribution with mean 0 and variance 1 \n",
        "r2 = torch.randn(4,4)\n",
        "print(r2)\n",
        "print(r2.dtype)"
      ],
      "execution_count": 50,
      "outputs": [
        {
          "output_type": "stream",
          "text": [
            "tensor([[-0.1593, -0.0096, -1.4585,  0.1394],\n",
            "        [ 1.2275, -1.3472,  1.5292, -0.8193],\n",
            "        [-1.8266,  0.0563,  0.5574,  1.3693],\n",
            "        [ 0.8650,  0.0128, -0.7552,  2.5554]])\n",
            "torch.float32\n"
          ],
          "name": "stdout"
        }
      ]
    },
    {
      "cell_type": "code",
      "metadata": {
        "id": "oe6xcnFmtaW4",
        "colab_type": "code",
        "outputId": "32d1c713-532f-445a-d649-c1996b06178e",
        "colab": {
          "base_uri": "https://localhost:8080/",
          "height": 51
        }
      },
      "source": [
        "#Create an array of 5 random integers from values between 6 and 9 (exlusive of 10)\n",
        "in_array = torch.randint(6,10, (5,))\n",
        "print(in_array)\n",
        "print(in_array.dtype)"
      ],
      "execution_count": 42,
      "outputs": [
        {
          "output_type": "stream",
          "text": [
            "tensor([7, 6, 7, 6, 6])\n",
            "torch.int64\n"
          ],
          "name": "stdout"
        }
      ]
    },
    {
      "cell_type": "code",
      "metadata": {
        "id": "tQ2AFFz9taW7",
        "colab_type": "code",
        "outputId": "c3702f2b-8162-4927-a725-ce3d8263aac4",
        "colab": {
          "base_uri": "https://localhost:8080/",
          "height": 68
        }
      },
      "source": [
        "#Create a 2-D array (or matrix) of size 3x3 filled with random integers from values between 6 and 9 (exlusive of 10)\n",
        "in_array2 = torch.randint(6,10, (3,3))\n",
        "print(in_array2)"
      ],
      "execution_count": 55,
      "outputs": [
        {
          "output_type": "stream",
          "text": [
            "tensor([[8, 9, 9],\n",
            "        [7, 7, 7],\n",
            "        [6, 7, 6]])\n"
          ],
          "name": "stdout"
        }
      ]
    },
    {
      "cell_type": "code",
      "metadata": {
        "id": "QDHC3gZ7taW9",
        "colab_type": "code",
        "outputId": "b06b1e4d-2faf-4584-8d09-df33dd5f72fc",
        "colab": {
          "base_uri": "https://localhost:8080/",
          "height": 51
        }
      },
      "source": [
        "#Get the number of elemetns in in_array\n",
        "print(torch.numel(in_array))\n",
        "#Get the number of elemetns in in_array\n",
        "print(torch.numel(in_array2))"
      ],
      "execution_count": 57,
      "outputs": [
        {
          "output_type": "stream",
          "text": [
            "5\n",
            "9\n"
          ],
          "name": "stdout"
        }
      ]
    },
    {
      "cell_type": "code",
      "metadata": {
        "id": "ZBO8Q14OtaXA",
        "colab_type": "code",
        "outputId": "4924b4de-63f8-4e3d-bcb8-44e5f51acc7b",
        "colab": {
          "base_uri": "https://localhost:8080/",
          "height": 136
        }
      },
      "source": [
        "#Construct a 3x3 matrix of zeros and of dtype long:\n",
        "z = torch.zeros(3, 3, dtype=torch.long)\n",
        "print(z)\n",
        "#Construct a 3x3 matrix of ones\n",
        "o = torch.ones(3,3)\n",
        "print(o)\n",
        "print(o.dtype)\n"
      ],
      "execution_count": 58,
      "outputs": [
        {
          "output_type": "stream",
          "text": [
            "tensor([[0, 0, 0],\n",
            "        [0, 0, 0],\n",
            "        [0, 0, 0]])\n",
            "tensor([[1., 1., 1.],\n",
            "        [1., 1., 1.],\n",
            "        [1., 1., 1.]])\n",
            "torch.float32\n"
          ],
          "name": "stdout"
        }
      ]
    },
    {
      "cell_type": "code",
      "metadata": {
        "id": "UYJArv9utaXJ",
        "colab_type": "code",
        "outputId": "30ebe61f-a1e3-4c02-8ecc-b7f76787ae87",
        "colab": {
          "base_uri": "https://localhost:8080/",
          "height": 85
        }
      },
      "source": [
        "r2_like = torch.randn_like(r2, dtype=torch.double)    # Convert the data type of the tensor\n",
        "print(r2_like)"
      ],
      "execution_count": 46,
      "outputs": [
        {
          "output_type": "stream",
          "text": [
            "tensor([[ 0.0684, -0.0301,  1.2175, -0.4321],\n",
            "        [ 0.2049, -0.8919, -0.1030, -0.2115],\n",
            "        [ 0.6451,  1.1519, -0.0891,  1.0289],\n",
            "        [-0.4163,  0.7574, -0.8205,  0.6593]], dtype=torch.float64)\n"
          ],
          "name": "stdout"
        }
      ]
    },
    {
      "cell_type": "code",
      "metadata": {
        "id": "uWZbkt33taXP",
        "colab_type": "code",
        "outputId": "a122a5d8-6d75-4586-d30e-2d44068383e0",
        "colab": {
          "base_uri": "https://localhost:8080/",
          "height": 85
        }
      },
      "source": [
        "#Add two tensors, make sure they are the same size and data type\n",
        "add_result = torch.add(r,r2)\n",
        "print(add_result)"
      ],
      "execution_count": 47,
      "outputs": [
        {
          "output_type": "stream",
          "text": [
            "tensor([[-0.4362, -0.4227, -0.4005,  0.1138],\n",
            "        [ 0.0293, -0.2357,  1.0124,  0.0889],\n",
            "        [-0.4970,  2.3153,  0.7256, -1.0891],\n",
            "        [ 0.7216,  1.0065, -0.9315,  1.2122]])\n"
          ],
          "name": "stdout"
        }
      ]
    },
    {
      "cell_type": "code",
      "metadata": {
        "id": "BlRmlaGTtaXY",
        "colab_type": "code",
        "outputId": "c5975c68-400d-4692-a2c6-f8b5221e8610",
        "colab": {
          "base_uri": "https://localhost:8080/",
          "height": 85
        }
      },
      "source": [
        "#In-place addition (change the value of r2)\n",
        "r2.add_(r)    \n",
        "print(r2)"
      ],
      "execution_count": 48,
      "outputs": [
        {
          "output_type": "stream",
          "text": [
            "tensor([[-0.4362, -0.4227, -0.4005,  0.1138],\n",
            "        [ 0.0293, -0.2357,  1.0124,  0.0889],\n",
            "        [-0.4970,  2.3153,  0.7256, -1.0891],\n",
            "        [ 0.7216,  1.0065, -0.9315,  1.2122]])\n"
          ],
          "name": "stdout"
        }
      ]
    },
    {
      "cell_type": "code",
      "metadata": {
        "id": "FD4Aa-AZtaXb",
        "colab_type": "code",
        "outputId": "6f1839d3-0db3-4149-ec1e-9eb2e1cecaad",
        "colab": {
          "base_uri": "https://localhost:8080/",
          "height": 204
        }
      },
      "source": [
        "print(r2[:,1])\n",
        "print(r2[:,:2])\n",
        "print(r2[:3,:])\n",
        "num_ten = r2[2,3]\n",
        "print(num_ten)\n",
        "print(num_ten.item())\n",
        "print(r2[2,:])"
      ],
      "execution_count": 49,
      "outputs": [
        {
          "output_type": "stream",
          "text": [
            "tensor([-0.4227, -0.2357,  2.3153,  1.0065])\n",
            "tensor([[-0.4362, -0.4227],\n",
            "        [ 0.0293, -0.2357],\n",
            "        [-0.4970,  2.3153],\n",
            "        [ 0.7216,  1.0065]])\n",
            "tensor([[-0.4362, -0.4227, -0.4005,  0.1138],\n",
            "        [ 0.0293, -0.2357,  1.0124,  0.0889],\n",
            "        [-0.4970,  2.3153,  0.7256, -1.0891]])\n",
            "tensor(-1.0891)\n",
            "-1.0891330242156982\n",
            "tensor([-0.4970,  2.3153,  0.7256, -1.0891])\n"
          ],
          "name": "stdout"
        }
      ]
    },
    {
      "cell_type": "markdown",
      "metadata": {
        "id": "qXuHlKr0taXd",
        "colab_type": "text"
      },
      "source": [
        "## Numpy Bridge"
      ]
    },
    {
      "cell_type": "code",
      "metadata": {
        "id": "QSVxZylztaXe",
        "colab_type": "code",
        "colab": {}
      },
      "source": [
        "import numpy as np"
      ],
      "execution_count": 0,
      "outputs": []
    },
    {
      "cell_type": "code",
      "metadata": {
        "id": "YypX-MRttaXh",
        "colab_type": "code",
        "outputId": "21d9b73b-c0b1-4bf9-b1c0-6a39223b977a",
        "colab": {
          "base_uri": "https://localhost:8080/",
          "height": 85
        }
      },
      "source": [
        "#Converting a Torch Tensor to a NumPy Array\n",
        "a = torch.ones(5)\n",
        "print(a)\n",
        "b = a.numpy()\n",
        "print(b)\n",
        "#See how the numpy array changed their value.\n",
        "a.add_(1)\n",
        "print(a)\n",
        "print(b)"
      ],
      "execution_count": 60,
      "outputs": [
        {
          "output_type": "stream",
          "text": [
            "tensor([1., 1., 1., 1., 1.])\n",
            "[1. 1. 1. 1. 1.]\n",
            "tensor([2., 2., 2., 2., 2.])\n",
            "[2. 2. 2. 2. 2.]\n"
          ],
          "name": "stdout"
        }
      ]
    },
    {
      "cell_type": "code",
      "metadata": {
        "id": "lUn81rx7taXl",
        "colab_type": "code",
        "outputId": "e1c620fa-4fd7-499d-e82a-35c709747988",
        "colab": {
          "base_uri": "https://localhost:8080/",
          "height": 51
        }
      },
      "source": [
        "#Converting NumPy Array to Torch Tensor\n",
        "#See how changing the np array changed the Torch Tensor automatically\n",
        "a = np.ones(5)\n",
        "b = torch.from_numpy(a)\n",
        "np.add(a, 1, out=a)\n",
        "print(a)\n",
        "print(b)"
      ],
      "execution_count": 61,
      "outputs": [
        {
          "output_type": "stream",
          "text": [
            "[2. 2. 2. 2. 2.]\n",
            "tensor([2., 2., 2., 2., 2.], dtype=torch.float64)\n"
          ],
          "name": "stdout"
        }
      ]
    },
    {
      "cell_type": "code",
      "metadata": {
        "id": "vnJ_fdUPtaXp",
        "colab_type": "code",
        "outputId": "f6fbaa27-08ee-4c3d-8177-74c67c8e8d4f",
        "colab": {
          "base_uri": "https://localhost:8080/",
          "height": 85
        }
      },
      "source": [
        "#Move the tensor to the GPU\n",
        "r2 = r2.cuda()\n",
        "print(r2)"
      ],
      "execution_count": 62,
      "outputs": [
        {
          "output_type": "stream",
          "text": [
            "tensor([[-0.1593, -0.0096, -1.4585,  0.1394],\n",
            "        [ 1.2275, -1.3472,  1.5292, -0.8193],\n",
            "        [-1.8266,  0.0563,  0.5574,  1.3693],\n",
            "        [ 0.8650,  0.0128, -0.7552,  2.5554]], device='cuda:0')\n"
          ],
          "name": "stdout"
        }
      ]
    },
    {
      "cell_type": "code",
      "metadata": {
        "id": "lsWpNwzrtaXr",
        "colab_type": "code",
        "outputId": "363092aa-ace9-42a3-ca27-804646fccef5",
        "colab": {
          "base_uri": "https://localhost:8080/",
          "height": 102
        }
      },
      "source": [
        "#Provide Easy switching between CPU and GPU\n",
        "CUDA = torch.cuda.is_available()\n",
        "print(CUDA)\n",
        "if CUDA:\n",
        "    add_result = add_result.cuda()\n",
        "    print(add_result)"
      ],
      "execution_count": 63,
      "outputs": [
        {
          "output_type": "stream",
          "text": [
            "True\n",
            "tensor([[-0.4362, -0.4227, -0.4005,  0.1138],\n",
            "        [ 0.0293, -0.2357,  1.0124,  0.0889],\n",
            "        [-0.4970,  2.3153,  0.7256, -1.0891],\n",
            "        [ 0.7216,  1.0065, -0.9315,  1.2122]], device='cuda:0')\n"
          ],
          "name": "stdout"
        }
      ]
    },
    {
      "cell_type": "code",
      "metadata": {
        "id": "us4UiWrFtaXu",
        "colab_type": "code",
        "outputId": "f6b96aca-3803-41a2-ce54-574c7e80aa1f",
        "colab": {}
      },
      "source": [
        "#You can also convert a list to a tensor\n",
        "a = [2,3,4,1]\n",
        "print(a)\n",
        "to_list = torch.tensor(a)\n",
        "print(to_list, to_list.dtype)"
      ],
      "execution_count": 0,
      "outputs": [
        {
          "output_type": "stream",
          "text": [
            "[2, 3, 4, 1]\n",
            "tensor([ 2,  3,  4,  1]) torch.int64\n"
          ],
          "name": "stdout"
        }
      ]
    },
    {
      "cell_type": "code",
      "metadata": {
        "id": "I_GqFJV5taXx",
        "colab_type": "code",
        "outputId": "db5d6c57-05d3-49ce-88af-1854c028c747",
        "colab": {}
      },
      "source": [
        "data =  [[1., 2.], [3., 4.],\n",
        "         [5., 6.], [7., 8.]]\n",
        "T = torch.tensor(data)\n",
        "print(T, T.dtype)"
      ],
      "execution_count": 0,
      "outputs": [
        {
          "output_type": "stream",
          "text": [
            "tensor([[ 1.,  2.],\n",
            "        [ 3.,  4.],\n",
            "        [ 5.,  6.],\n",
            "        [ 7.,  8.]]) torch.float32\n"
          ],
          "name": "stdout"
        }
      ]
    },
    {
      "cell_type": "markdown",
      "metadata": {
        "id": "9HkBmYWmtaX2",
        "colab_type": "text"
      },
      "source": [
        "## Tensor Concatenation"
      ]
    },
    {
      "cell_type": "code",
      "metadata": {
        "id": "cEh8EUeetaX3",
        "colab_type": "code",
        "outputId": "f845d4d7-8e4a-4763-b1f7-866376f6bc99",
        "colab": {}
      },
      "source": [
        "#Tensor Concatenation \n",
        "first_1 = torch.randn(2, 5)\n",
        "print(first_1)\n",
        "second_1 = torch.randn(3, 5)\n",
        "print(second_1)\n",
        "#Concatenate along the 0 dimension (concatenate rows)\n",
        "con_1 = torch.cat([first_1, second_1])\n",
        "print('\\n')\n",
        "print(con_1)\n",
        "print('\\n')\n",
        "first_2 = torch.randn(2, 3)\n",
        "print(first_2)\n",
        "second_2 = torch.randn(2, 5)\n",
        "print(second_2)\n",
        "# Concatenate along the 1 dimension (concatenate columns)\n",
        "con_2 = torch.cat([first_2, second_2], 1)\n",
        "print('\\n')\n",
        "print(con_2)\n",
        "print('\\n')"
      ],
      "execution_count": 0,
      "outputs": [
        {
          "output_type": "stream",
          "text": [
            "tensor([[ 0.6135,  0.8433, -1.1979, -0.6967,  1.0293],\n",
            "        [ 0.7166,  1.0994,  1.4566,  0.7288,  0.8442]])\n",
            "tensor([[ 1.3261,  0.4962,  0.8908, -0.0891,  0.2191],\n",
            "        [ 0.4312,  0.8086, -0.7231,  0.5978,  0.1467],\n",
            "        [-1.3080,  0.3101,  0.5747,  1.0255, -1.0372]])\n",
            "\n",
            "\n",
            "tensor([[ 0.6135,  0.8433, -1.1979, -0.6967,  1.0293],\n",
            "        [ 0.7166,  1.0994,  1.4566,  0.7288,  0.8442],\n",
            "        [ 1.3261,  0.4962,  0.8908, -0.0891,  0.2191],\n",
            "        [ 0.4312,  0.8086, -0.7231,  0.5978,  0.1467],\n",
            "        [-1.3080,  0.3101,  0.5747,  1.0255, -1.0372]])\n",
            "\n",
            "\n",
            "tensor([[ 0.1965, -0.7684,  0.2611],\n",
            "        [-0.2699, -1.9723,  0.8114]])\n",
            "tensor([[-0.2711,  0.0370, -2.2648,  0.1803,  0.9619],\n",
            "        [-0.0567, -0.9806,  1.6391,  0.4946,  0.3042]])\n",
            "\n",
            "\n",
            "tensor([[ 0.1965, -0.7684,  0.2611, -0.2711,  0.0370, -2.2648,  0.1803,\n",
            "          0.9619],\n",
            "        [-0.2699, -1.9723,  0.8114, -0.0567, -0.9806,  1.6391,  0.4946,\n",
            "          0.3042]])\n",
            "\n",
            "\n"
          ],
          "name": "stdout"
        }
      ]
    },
    {
      "cell_type": "code",
      "metadata": {
        "id": "U_fCd6MU2z-s",
        "colab_type": "code",
        "colab": {
          "base_uri": "https://localhost:8080/",
          "height": 85
        },
        "outputId": "5d27003b-ed17-4e83-af79-01b178180aca"
      },
      "source": [
        "print(b)"
      ],
      "execution_count": 34,
      "outputs": [
        {
          "output_type": "stream",
          "text": [
            "tensor([[2, 1, 4],\n",
            "        [3, 5, 4],\n",
            "        [1, 2, 0],\n",
            "        [4, 3, 2]])\n"
          ],
          "name": "stdout"
        }
      ]
    },
    {
      "cell_type": "markdown",
      "metadata": {
        "id": "sMrEnYy3taX-",
        "colab_type": "text"
      },
      "source": [
        "## Adding Dimensions to Tensors"
      ]
    },
    {
      "cell_type": "code",
      "metadata": {
        "id": "4wl8vKettaX_",
        "colab_type": "code",
        "outputId": "4577bf7b-9c99-4236-a9f5-37e8e973e053",
        "colab": {
          "base_uri": "https://localhost:8080/",
          "height": 102
        }
      },
      "source": [
        "#Adds a dimension of 1 along a specified index\n",
        "tensor_1 = torch.tensor([1, 2, 3, 4])\n",
        "print(tensor_1)\n",
        "print(tensor_1.shape)\n",
        "tensor_a = torch.unsqueeze(tensor_1, 0)\n",
        "print(tensor_a)\n",
        "print(tensor_a.shape)\n",
        "tensor_b = torch.unsqueeze(tensor_1,1)\n",
        "print(tensor_b)\n",
        "print(tensor_b.shape)\n",
        "print('\\n')\n",
        "tensor_2 = torch.rand(2,3,4)\n",
        "print(tensor_2)\n",
        "print('\\n')\n",
        "tensor_c = tensor_2[:,:,2]\n",
        "print(tensor_c)\n",
        "print(tensor_c.shape)\n",
        "print('\\n')\n",
        "tensor_d = torch.unsqueeze(tensor_c,2)\n",
        "print(tensor_d)\n",
        "print(tensor_d.shape)"
      ],
      "execution_count": 71,
      "outputs": [
        {
          "output_type": "stream",
          "text": [
            "tensor([[1],\n",
            "        [2],\n",
            "        [3],\n",
            "        [4]])\n",
            "torch.Size([4, 1])\n"
          ],
          "name": "stdout"
        }
      ]
    },
    {
      "cell_type": "markdown",
      "metadata": {
        "id": "XFBvSe9dtaYB",
        "colab_type": "text"
      },
      "source": [
        "## AutoGrad"
      ]
    },
    {
      "cell_type": "code",
      "metadata": {
        "id": "fhYRKtuHtaYC",
        "colab_type": "code",
        "outputId": "c443d205-32ab-40ee-88b6-3e6364658d42",
        "colab": {}
      },
      "source": [
        "#Remember, If requires_grad=True, the Tensor object keeps track of how it was created.\n",
        "x = torch.tensor([1., 2., 3], requires_grad=True)\n",
        "y = torch.tensor([4., 5., 6], requires_grad=True)\n",
        "#Notice that both x and y have their required_grad set to true, therefore we an compute gradients with respect to them\n",
        "z = x + y\n",
        "print(z)\n",
        "# z knows that is was created as a result of addition of x and y. It knows that it wasn't read in from a file\n",
        "print(z.grad_fn)\n",
        "#And if we go further on this\n",
        "s = z.sum()\n",
        "print(s)\n",
        "print(s.grad_fn)"
      ],
      "execution_count": 0,
      "outputs": [
        {
          "output_type": "stream",
          "text": [
            "tensor([ 5.,  7.,  9.])\n",
            "<AddBackward1 object at 0x000001E4514FAF28>\n",
            "tensor(21.)\n",
            "<SumBackward0 object at 0x000001E4514FAE80>\n"
          ],
          "name": "stdout"
        }
      ]
    },
    {
      "cell_type": "code",
      "metadata": {
        "id": "J5aMfPo2taYI",
        "colab_type": "code",
        "outputId": "7c0bbb02-a3f7-408c-87cd-76a1a9d0f6e6",
        "colab": {}
      },
      "source": [
        "#Now if we backpropagate on s, we can find the gradients of s with respect to x\n",
        "s.backward()\n",
        "print(x.grad)"
      ],
      "execution_count": 0,
      "outputs": [
        {
          "output_type": "stream",
          "text": [
            "tensor([ 1.,  1.,  1.])\n"
          ],
          "name": "stdout"
        }
      ]
    },
    {
      "cell_type": "code",
      "metadata": {
        "id": "TDXac9LktaYM",
        "colab_type": "code",
        "outputId": "e484cbd2-7389-4fd1-de7b-ccb2198f66e0",
        "colab": {}
      },
      "source": [
        "# By default, Tensors have `requires_grad=False`\n",
        "x = torch.randn(2, 2)\n",
        "y = torch.randn(2, 2)\n",
        "print(x.requires_grad, y.requires_grad)\n",
        "z = x + y\n",
        "# So you can't backprop through z\n",
        "print(z.grad_fn)\n",
        "#Another way to set the requires_grad = True is\n",
        "x.requires_grad_()\n",
        "y.requires_grad_()\n",
        "# z contains enough information to compute gradients, as we saw above\n",
        "z = x + y\n",
        "print(z.grad_fn)\n",
        "# If any input to an operation has ``requires_grad=True``, so will the output\n",
        "print(z.requires_grad)\n",
        "# Now z has the computation history that relates itself to x and y\n",
        "\n",
        "new_z = z.detach()\n",
        "print(new_z.grad_fn)\n",
        "# z.detach() returns a tensor that shares the same storage as ``z``, but with the computation history forgotten. \n",
        "#It doesn't know anything about how it was computed.In other words, we have broken the Tensor away from its past history\n",
        "\n",
        "#You can also stop autograd from tracking history on Tensors. This concept is useful when applying Transfer Learning \n",
        "print(x.requires_grad)\n",
        "print((x+10).requires_grad)\n",
        "\n",
        "with torch.no_grad():\n",
        "    print((x+10).requires_grad)"
      ],
      "execution_count": 0,
      "outputs": [
        {
          "output_type": "stream",
          "text": [
            "False False\n",
            "None\n",
            "<AddBackward1 object at 0x000001E4515094E0>\n",
            "True\n",
            "None\n",
            "True\n",
            "True\n",
            "False\n"
          ],
          "name": "stdout"
        }
      ]
    },
    {
      "cell_type": "code",
      "metadata": {
        "id": "ww9D1r3gtaYQ",
        "colab_type": "code",
        "outputId": "7c97cdc5-1a3e-478a-ae64-744d5a779526",
        "colab": {}
      },
      "source": [
        "#Let's walk in through one last example\n",
        "x = torch.ones(2, 2, requires_grad=True)\n",
        "print(x)\n",
        "y = x + 2\n",
        "print(y)\n",
        "print(y.grad_fn)\n",
        "z = y * y * 3\n",
        "out = z.mean()\n",
        "print(z, out)\n",
        "out.backward()\n",
        "print(x.grad)"
      ],
      "execution_count": 0,
      "outputs": [
        {
          "output_type": "stream",
          "text": [
            "tensor([[ 1.,  1.],\n",
            "        [ 1.,  1.]])\n",
            "tensor([[ 3.,  3.],\n",
            "        [ 3.,  3.]])\n",
            "<AddBackward0 object at 0x000001E4514FADA0>\n",
            "tensor([[ 27.,  27.],\n",
            "        [ 27.,  27.]]) tensor(27.)\n",
            "tensor([[ 4.5000,  4.5000],\n",
            "        [ 4.5000,  4.5000]])\n"
          ],
          "name": "stdout"
        }
      ]
    },
    {
      "cell_type": "code",
      "metadata": {
        "id": "DLnSefg2taYf",
        "colab_type": "code",
        "outputId": "9d0aaaf9-6bb7-4670-e412-5bb243bd2e93",
        "colab": {}
      },
      "source": [
        "m1 = torch.ones(5,5)\n",
        "m2 = torch.zeros(5,5)\n",
        "#Perform element-wise multiplaction \n",
        "mul = torch.mul(m1,m2)\n",
        "#Another way to perform element-wise multiplaction \n",
        "mul_another = m1*m2\n",
        "print(mul)\n",
        "print(mul_another)"
      ],
      "execution_count": 0,
      "outputs": [
        {
          "output_type": "stream",
          "text": [
            "tensor([[ 0.,  0.,  0.,  0.,  0.],\n",
            "        [ 0.,  0.,  0.,  0.,  0.],\n",
            "        [ 0.,  0.,  0.,  0.,  0.],\n",
            "        [ 0.,  0.,  0.,  0.,  0.],\n",
            "        [ 0.,  0.,  0.,  0.,  0.]])\n",
            "tensor([[ 0.,  0.,  0.,  0.,  0.],\n",
            "        [ 0.,  0.,  0.,  0.,  0.],\n",
            "        [ 0.,  0.,  0.,  0.,  0.],\n",
            "        [ 0.,  0.,  0.,  0.,  0.],\n",
            "        [ 0.,  0.,  0.,  0.,  0.]])\n"
          ],
          "name": "stdout"
        }
      ]
    },
    {
      "cell_type": "code",
      "metadata": {
        "id": "wq6QO8BvtaYi",
        "colab_type": "code",
        "colab": {}
      },
      "source": [
        ""
      ],
      "execution_count": 0,
      "outputs": []
    }
  ]
}
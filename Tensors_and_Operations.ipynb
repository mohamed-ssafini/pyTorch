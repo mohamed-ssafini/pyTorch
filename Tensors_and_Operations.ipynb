{
  "nbformat": 4,
  "nbformat_minor": 0,
  "metadata": {
    "kernelspec": {
      "name": "python3",
      "display_name": "Python 3"
    },
    "language_info": {
      "codemirror_mode": {
        "name": "ipython",
        "version": 3
      },
      "file_extension": ".py",
      "mimetype": "text/x-python",
      "name": "python",
      "nbconvert_exporter": "python",
      "pygments_lexer": "ipython3",
      "version": "3.6.5"
    },
    "colab": {
      "name": "Tensors and Operations.ipynb",
      "provenance": [],
      "toc_visible": true,
      "include_colab_link": true
    },
    "accelerator": "GPU"
  },
  "cells": [
    {
      "cell_type": "markdown",
      "metadata": {
        "id": "view-in-github",
        "colab_type": "text"
      },
      "source": [
        "<a href=\"https://colab.research.google.com/github/mohamedssafini/pyTorch/blob/master/Tensors_and_Operations.ipynb\" target=\"_parent\"><img src=\"https://colab.research.google.com/assets/colab-badge.svg\" alt=\"Open In Colab\"/></a>"
      ]
    },
    {
      "cell_type": "code",
      "metadata": {
        "id": "OP-gkvd6ts42",
        "colab_type": "code",
        "outputId": "b17631c2-e1ae-4413-d560-7ff9eb146cb8",
        "colab": {
          "base_uri": "https://localhost:8080/",
          "height": 85
        }
      },
      "source": [
        "!nvcc --version"
      ],
      "execution_count": 1,
      "outputs": [
        {
          "output_type": "stream",
          "text": [
            "nvcc: NVIDIA (R) Cuda compiler driver\n",
            "Copyright (c) 2005-2019 NVIDIA Corporation\n",
            "Built on Sun_Jul_28_19:07:16_PDT_2019\n",
            "Cuda compilation tools, release 10.1, V10.1.243\n"
          ],
          "name": "stdout"
        }
      ]
    },
    {
      "cell_type": "code",
      "metadata": {
        "id": "y8AqZVECtaVy",
        "colab_type": "code",
        "colab": {}
      },
      "source": [
        "import torch"
      ],
      "execution_count": 0,
      "outputs": []
    },
    {
      "cell_type": "code",
      "metadata": {
        "id": "PptDXvjuudhW",
        "colab_type": "code",
        "outputId": "b51a82c2-7f62-44f9-9f21-33407e552c70",
        "colab": {
          "base_uri": "https://localhost:8080/",
          "height": 34
        }
      },
      "source": [
        "print(torch.__version__)"
      ],
      "execution_count": 3,
      "outputs": [
        {
          "output_type": "stream",
          "text": [
            "1.3.1\n"
          ],
          "name": "stdout"
        }
      ]
    },
    {
      "cell_type": "code",
      "metadata": {
        "id": "_dg0ST-hh20g",
        "colab_type": "code",
        "colab": {
          "base_uri": "https://localhost:8080/",
          "height": 34
        },
        "outputId": "cdc919ad-b978-4656-ce5b-816b252efafd"
      },
      "source": [
        "torch.cuda.is_available()"
      ],
      "execution_count": 4,
      "outputs": [
        {
          "output_type": "execute_result",
          "data": {
            "text/plain": [
              "True"
            ]
          },
          "metadata": {
            "tags": []
          },
          "execution_count": 4
        }
      ]
    },
    {
      "cell_type": "markdown",
      "metadata": {
        "id": "XDOrXfhgtaV4",
        "colab_type": "text"
      },
      "source": [
        "# Torch Tensors"
      ]
    },
    {
      "cell_type": "code",
      "metadata": {
        "id": "v7No6ZyTtaV5",
        "colab_type": "code",
        "outputId": "2da47cd6-2d2a-43f8-c2dd-39b6c633a454",
        "colab": {
          "base_uri": "https://localhost:8080/",
          "height": 34
        }
      },
      "source": [
        "#This is a 1-D Tensor\n",
        "a = torch.tensor([2,2,1])\n",
        "print(a)"
      ],
      "execution_count": 5,
      "outputs": [
        {
          "output_type": "stream",
          "text": [
            "tensor([2, 2, 1])\n"
          ],
          "name": "stdout"
        }
      ]
    },
    {
      "cell_type": "code",
      "metadata": {
        "id": "mvXMc6ERtaV9",
        "colab_type": "code",
        "outputId": "84e059f7-ba9c-48a0-c788-3743bca0bb24",
        "colab": {
          "base_uri": "https://localhost:8080/",
          "height": 85
        }
      },
      "source": [
        "#This is a 2-D Tensor\n",
        "b = torch.tensor([[2,1,4],[3,5,4],[1,2,0],[4,3,2]])\n",
        "print(b)"
      ],
      "execution_count": 7,
      "outputs": [
        {
          "output_type": "stream",
          "text": [
            "tensor([[2, 1, 4],\n",
            "        [3, 5, 4],\n",
            "        [1, 2, 0],\n",
            "        [4, 3, 2]])\n"
          ],
          "name": "stdout"
        }
      ]
    },
    {
      "cell_type": "code",
      "metadata": {
        "id": "1mYWQ9-JtaWD",
        "colab_type": "code",
        "outputId": "26142c54-b6f5-4f59-a266-46f4746ee886",
        "colab": {
          "base_uri": "https://localhost:8080/",
          "height": 85
        }
      },
      "source": [
        "#The size of the tensors\n",
        "print(a.shape)\n",
        "print(b.shape)\n",
        "print(a.size())\n",
        "print(b.size())"
      ],
      "execution_count": 8,
      "outputs": [
        {
          "output_type": "stream",
          "text": [
            "torch.Size([3])\n",
            "torch.Size([4, 3])\n",
            "torch.Size([3])\n",
            "torch.Size([4, 3])\n"
          ],
          "name": "stdout"
        }
      ]
    },
    {
      "cell_type": "code",
      "metadata": {
        "id": "UPdOH0wgtaWH",
        "colab_type": "code",
        "outputId": "c9ff6a37-fdf4-4ed4-aaaf-f4fbf5474fd0",
        "colab": {
          "base_uri": "https://localhost:8080/",
          "height": 34
        }
      },
      "source": [
        "#Get the height/number of rows of b\n",
        "print(b.shape[0])"
      ],
      "execution_count": 9,
      "outputs": [
        {
          "output_type": "stream",
          "text": [
            "4\n"
          ],
          "name": "stdout"
        }
      ]
    },
    {
      "cell_type": "code",
      "metadata": {
        "id": "lT6FxPoZi0oY",
        "colab_type": "code",
        "colab": {
          "base_uri": "https://localhost:8080/",
          "height": 34
        },
        "outputId": "bc0fcdf4-cee1-413b-df36-78a51dc91f26"
      },
      "source": [
        "print(b.shape[1])"
      ],
      "execution_count": 10,
      "outputs": [
        {
          "output_type": "stream",
          "text": [
            "3\n"
          ],
          "name": "stdout"
        }
      ]
    },
    {
      "cell_type": "code",
      "metadata": {
        "id": "fv745lEwtaWK",
        "colab_type": "code",
        "colab": {}
      },
      "source": [
        "c = torch.FloatTensor([[2,1,4],[3,5,4],[1,2,0],[4,3,2]])\n",
        "#or we can do\n",
        "#c = torch.tensor([2,2,1], dtype = torch.float)"
      ],
      "execution_count": 0,
      "outputs": []
    },
    {
      "cell_type": "code",
      "metadata": {
        "id": "fQnMSFLrtaWN",
        "colab_type": "code",
        "colab": {}
      },
      "source": [
        "d = torch.DoubleTensor([[2,1,4],[3,5,4],[1,2,0],[4,3,2]])\n",
        "#or we can do\n",
        "#d = torch.tensor([2,2,1], dtype = torch.double)"
      ],
      "execution_count": 0,
      "outputs": []
    },
    {
      "cell_type": "code",
      "metadata": {
        "id": "QnoE6Fm0taWU",
        "colab_type": "code",
        "outputId": "99da877a-2669-423b-adf9-2b0d6bea6de3",
        "colab": {}
      },
      "source": [
        "print(c)\n",
        "print(c.dtype)"
      ],
      "execution_count": 0,
      "outputs": [
        {
          "output_type": "stream",
          "text": [
            "tensor([[ 2.,  1.,  4.],\n",
            "        [ 3.,  5.,  4.],\n",
            "        [ 1.,  2.,  0.],\n",
            "        [ 4.,  3.,  2.]])\n",
            "torch.float32\n"
          ],
          "name": "stdout"
        }
      ]
    },
    {
      "cell_type": "code",
      "metadata": {
        "id": "oYySjov6taWY",
        "colab_type": "code",
        "outputId": "9d1a30fa-6ece-46d3-cf72-cd67c619943a",
        "colab": {}
      },
      "source": [
        "print(d)\n",
        "print(d.dtype)"
      ],
      "execution_count": 0,
      "outputs": [
        {
          "output_type": "stream",
          "text": [
            "tensor([[ 2.,  1.,  4.],\n",
            "        [ 3.,  5.,  4.],\n",
            "        [ 1.,  2.,  0.],\n",
            "        [ 4.,  3.,  2.]], dtype=torch.float64)\n",
            "torch.float64\n"
          ],
          "name": "stdout"
        }
      ]
    },
    {
      "cell_type": "code",
      "metadata": {
        "id": "YUFdeZE8taWb",
        "colab_type": "code",
        "outputId": "4c5542bd-6896-4163-f862-1adc9e96a393",
        "colab": {}
      },
      "source": [
        "print(c.mean())"
      ],
      "execution_count": 0,
      "outputs": [
        {
          "output_type": "stream",
          "text": [
            "tensor(2.5833)\n"
          ],
          "name": "stdout"
        }
      ]
    },
    {
      "cell_type": "code",
      "metadata": {
        "id": "0LWrxLhotaWe",
        "colab_type": "code",
        "outputId": "cd4bfd3f-5fbb-4790-d9d7-9fc0a7d8d567",
        "colab": {}
      },
      "source": [
        "print(d.mean())"
      ],
      "execution_count": 0,
      "outputs": [
        {
          "output_type": "stream",
          "text": [
            "tensor(2.5833, dtype=torch.float64)\n"
          ],
          "name": "stdout"
        }
      ]
    },
    {
      "cell_type": "code",
      "metadata": {
        "id": "DCESddC2taWk",
        "colab_type": "code",
        "outputId": "ffae8c54-a7e6-43d0-8c5e-3d4ce609dc83",
        "colab": {}
      },
      "source": [
        "print(c.std())"
      ],
      "execution_count": 0,
      "outputs": [
        {
          "output_type": "stream",
          "text": [
            "tensor(1.5050)\n"
          ],
          "name": "stdout"
        }
      ]
    },
    {
      "cell_type": "code",
      "metadata": {
        "id": "I9JRf4bQtaWp",
        "colab_type": "code",
        "outputId": "a0887204-f458-4c29-c1fd-9a83d4d71d48",
        "colab": {}
      },
      "source": [
        "print(d.std())"
      ],
      "execution_count": 0,
      "outputs": [
        {
          "output_type": "stream",
          "text": [
            "tensor(1.5050, dtype=torch.float64)\n"
          ],
          "name": "stdout"
        }
      ]
    },
    {
      "cell_type": "code",
      "metadata": {
        "id": "mo-tNJb8taWs",
        "colab_type": "code",
        "outputId": "b3623277-6fad-4c80-d300-daaacc27c0e0",
        "colab": {}
      },
      "source": [
        "#Reshape b\n",
        "#Note: If one of the dimensions is -1, its size can be inferred\n",
        "print(b.view(-1,1))\n",
        "print(b.view(12))\n",
        "print(b.view(-1,4))\n",
        "print(b.view(3,4))\n",
        "#Assign b a new shape\n",
        "b = b.view(1,-1)\n",
        "print(b)\n",
        "print(b.shape)\n",
        "#We can even reshape 3D tensors\n",
        "print('\\n')\n",
        "#Create a 3D Tensor with 2 channels, 3 rows and 4 columns (channles,rows,columns)\n",
        "three_dim = torch.randn(2, 3, 4)\n",
        "print('\\n')\n",
        "print(three_dim)\n",
        "print(three_dim.view(2, 12))  # Reshape to 2 rows, 12 columns\n",
        "print(three_dim.view(2, -1))"
      ],
      "execution_count": 0,
      "outputs": [
        {
          "output_type": "stream",
          "text": [
            "tensor([[ 2],\n",
            "        [ 1],\n",
            "        [ 4],\n",
            "        [ 3],\n",
            "        [ 5],\n",
            "        [ 4],\n",
            "        [ 1],\n",
            "        [ 2],\n",
            "        [ 0],\n",
            "        [ 4],\n",
            "        [ 3],\n",
            "        [ 2]])\n",
            "tensor([ 2,  1,  4,  3,  5,  4,  1,  2,  0,  4,  3,  2])\n",
            "tensor([[ 2,  1,  4,  3],\n",
            "        [ 5,  4,  1,  2],\n",
            "        [ 0,  4,  3,  2]])\n",
            "tensor([[ 2,  1,  4,  3],\n",
            "        [ 5,  4,  1,  2],\n",
            "        [ 0,  4,  3,  2]])\n",
            "tensor([[ 2,  1,  4,  3,  5,  4,  1,  2,  0,  4,  3,  2]])\n",
            "torch.Size([1, 12])\n",
            "\n",
            "\n",
            "\n",
            "\n",
            "tensor([[[ 0.2452, -0.2727, -1.2520, -2.5308],\n",
            "         [-0.1989, -1.1197,  0.6911, -0.1573],\n",
            "         [-0.1419, -0.1570,  0.1724, -0.8731]],\n",
            "\n",
            "        [[ 0.3698,  1.7548, -0.0158, -1.9778],\n",
            "         [ 1.7497,  0.0472,  0.7746,  0.6194],\n",
            "         [ 0.0874,  1.0405,  0.0450, -0.6311]]])\n",
            "tensor([[ 0.2452, -0.2727, -1.2520, -2.5308, -0.1989, -1.1197,  0.6911,\n",
            "         -0.1573, -0.1419, -0.1570,  0.1724, -0.8731],\n",
            "        [ 0.3698,  1.7548, -0.0158, -1.9778,  1.7497,  0.0472,  0.7746,\n",
            "          0.6194,  0.0874,  1.0405,  0.0450, -0.6311]])\n",
            "tensor([[ 0.2452, -0.2727, -1.2520, -2.5308, -0.1989, -1.1197,  0.6911,\n",
            "         -0.1573, -0.1419, -0.1570,  0.1724, -0.8731],\n",
            "        [ 0.3698,  1.7548, -0.0158, -1.9778,  1.7497,  0.0472,  0.7746,\n",
            "          0.6194,  0.0874,  1.0405,  0.0450, -0.6311]])\n"
          ],
          "name": "stdout"
        }
      ]
    },
    {
      "cell_type": "code",
      "metadata": {
        "id": "M6Gz19K7taWw",
        "colab_type": "code",
        "outputId": "c07042b3-db55-498d-d931-67eaa95b8d79",
        "colab": {}
      },
      "source": [
        "#Create a matrix with random numbers between 0 and 1\n",
        "r = torch.rand(4,4)\n",
        "print(r)"
      ],
      "execution_count": 0,
      "outputs": [
        {
          "output_type": "stream",
          "text": [
            "tensor([[ 0.5186,  0.8387,  0.1570,  0.5122],\n",
            "        [ 0.4223,  0.9927,  0.9147,  0.2779],\n",
            "        [ 0.5273,  0.5849,  0.9200,  0.2523],\n",
            "        [ 0.6333,  0.2193,  0.3354,  0.0160]])\n"
          ],
          "name": "stdout"
        }
      ]
    },
    {
      "cell_type": "code",
      "metadata": {
        "id": "TWs97GgMtaW0",
        "colab_type": "code",
        "outputId": "683e8f10-2337-4baf-f32b-5ff5b038187a",
        "colab": {}
      },
      "source": [
        "#Create a matrix with random numbers taken from a normal distribution with mean 0 and variance 1 \n",
        "r2 = torch.randn(4,4)\n",
        "print(r2)\n",
        "print(r2.dtype)"
      ],
      "execution_count": 0,
      "outputs": [
        {
          "output_type": "stream",
          "text": [
            "tensor([[-0.8696,  0.1583, -0.0100, -0.3128],\n",
            "        [-0.9579,  0.6632, -1.6259,  2.1361],\n",
            "        [-0.6797, -0.2329,  0.4184, -0.1974],\n",
            "        [ 0.1087,  0.7739,  0.0408,  0.3881]])\n",
            "torch.float32\n"
          ],
          "name": "stdout"
        }
      ]
    },
    {
      "cell_type": "code",
      "metadata": {
        "id": "oe6xcnFmtaW4",
        "colab_type": "code",
        "outputId": "db0ec387-b43c-4558-85a7-c882c8e28225",
        "colab": {}
      },
      "source": [
        "#Create an array of 5 random integers from values between 6 and 9 (exlusive of 10)\n",
        "in_array = torch.randint(6,10, (5,))\n",
        "print(in_array)\n",
        "print(in_array.dtype)"
      ],
      "execution_count": 0,
      "outputs": [
        {
          "output_type": "stream",
          "text": [
            "tensor([ 6.,  6.,  9.,  7.,  6.])\n",
            "torch.float32\n"
          ],
          "name": "stdout"
        }
      ]
    },
    {
      "cell_type": "code",
      "metadata": {
        "id": "tQ2AFFz9taW7",
        "colab_type": "code",
        "outputId": "9cad0142-5add-48ab-88b9-5aa3c02352e1",
        "colab": {}
      },
      "source": [
        "#Create a 2-D array (or matrix) of size 3x3 filled with random integers from values between 6 and 9 (exlusive of 10)\n",
        "in_array2 = torch.randint(6,10, (3,3))\n",
        "print(in_array2)"
      ],
      "execution_count": 0,
      "outputs": [
        {
          "output_type": "stream",
          "text": [
            "tensor([[ 7.,  9.,  6.],\n",
            "        [ 6.,  6.,  8.],\n",
            "        [ 7.,  9.,  8.]])\n"
          ],
          "name": "stdout"
        }
      ]
    },
    {
      "cell_type": "code",
      "metadata": {
        "id": "QDHC3gZ7taW9",
        "colab_type": "code",
        "outputId": "59c15ce4-7549-4214-bef8-d676e98f7276",
        "colab": {}
      },
      "source": [
        "#Get the number of elemetns in in_array\n",
        "print(torch.numel(in_array))\n",
        "#Get the number of elemetns in in_array\n",
        "print(torch.numel(in_array2))"
      ],
      "execution_count": 0,
      "outputs": [
        {
          "output_type": "stream",
          "text": [
            "5\n",
            "9\n"
          ],
          "name": "stdout"
        }
      ]
    },
    {
      "cell_type": "code",
      "metadata": {
        "id": "ZBO8Q14OtaXA",
        "colab_type": "code",
        "outputId": "14b702b2-3fbf-4182-b30b-120d85ce1271",
        "colab": {}
      },
      "source": [
        "#Construct a 3x3 matrix of zeros and of dtype long:\n",
        "z = torch.zeros(3, 3, dtype=torch.long)\n",
        "print(z)\n",
        "#Construct a 3x3 matrix of ones\n",
        "o = torch.ones(3,3)\n",
        "print(o)\n",
        "print(o.dtype)\n"
      ],
      "execution_count": 0,
      "outputs": [
        {
          "output_type": "stream",
          "text": [
            "tensor([[ 0,  0,  0],\n",
            "        [ 0,  0,  0],\n",
            "        [ 0,  0,  0]])\n",
            "tensor([[ 1.,  1.,  1.],\n",
            "        [ 1.,  1.,  1.],\n",
            "        [ 1.,  1.,  1.]])\n",
            "torch.float32\n"
          ],
          "name": "stdout"
        }
      ]
    },
    {
      "cell_type": "code",
      "metadata": {
        "id": "UYJArv9utaXJ",
        "colab_type": "code",
        "outputId": "a877a6f7-54f5-4a66-d556-3cb3cfcd6767",
        "colab": {}
      },
      "source": [
        "r2_like = torch.randn_like(r2, dtype=torch.double)    # Convert the data type of the tensor\n",
        "print(r2_like)"
      ],
      "execution_count": 0,
      "outputs": [
        {
          "output_type": "stream",
          "text": [
            "tensor([[-0.0438, -0.5338, -0.9729, -0.7514],\n",
            "        [-0.5681,  1.3657,  1.7602,  0.0791],\n",
            "        [ 0.1952,  1.0167,  0.4843,  0.0830],\n",
            "        [-0.3008, -1.8261,  0.4665, -0.4238]], dtype=torch.float64)\n"
          ],
          "name": "stdout"
        }
      ]
    },
    {
      "cell_type": "code",
      "metadata": {
        "id": "uWZbkt33taXP",
        "colab_type": "code",
        "outputId": "afce5470-e81b-42ca-d6c5-34b7551d4bec",
        "colab": {}
      },
      "source": [
        "#Add two tensors, make sure they are the same size and data type\n",
        "add_result = torch.add(r,r2)\n",
        "print(add_result)"
      ],
      "execution_count": 0,
      "outputs": [
        {
          "output_type": "stream",
          "text": [
            "tensor([[-0.3510,  0.9970,  0.1470,  0.1994],\n",
            "        [-0.5357,  1.6559, -0.7112,  2.4140],\n",
            "        [-0.1524,  0.3520,  1.3384,  0.0549],\n",
            "        [ 0.7420,  0.9932,  0.3761,  0.4040]])\n"
          ],
          "name": "stdout"
        }
      ]
    },
    {
      "cell_type": "code",
      "metadata": {
        "id": "BlRmlaGTtaXY",
        "colab_type": "code",
        "outputId": "6be7bd49-81fd-47e4-b87f-8afbe137174d",
        "colab": {}
      },
      "source": [
        "#In-place addition (change the value of r2)\n",
        "r2.add_(r)    \n",
        "print(r2)"
      ],
      "execution_count": 0,
      "outputs": [
        {
          "output_type": "stream",
          "text": [
            "tensor([[-0.3510,  0.9970,  0.1470,  0.1994],\n",
            "        [-0.5357,  1.6559, -0.7112,  2.4140],\n",
            "        [-0.1524,  0.3520,  1.3384,  0.0549],\n",
            "        [ 0.7420,  0.9932,  0.3761,  0.4040]])\n"
          ],
          "name": "stdout"
        }
      ]
    },
    {
      "cell_type": "code",
      "metadata": {
        "id": "FD4Aa-AZtaXb",
        "colab_type": "code",
        "outputId": "04714e1d-f31e-469a-e42e-7e12cb9dd23d",
        "colab": {}
      },
      "source": [
        "print(r2[:,1])\n",
        "print(r2[:,:2])\n",
        "print(r2[:3,:])\n",
        "num_ten = r2[2,3]\n",
        "print(num_ten)\n",
        "print(num_ten.item())\n",
        "print(r2[2,:])"
      ],
      "execution_count": 0,
      "outputs": [
        {
          "output_type": "stream",
          "text": [
            "tensor([ 0.9970,  1.6559,  0.3520,  0.9932])\n",
            "tensor([[-0.3510,  0.9970],\n",
            "        [-0.5357,  1.6559],\n",
            "        [-0.1524,  0.3520],\n",
            "        [ 0.7420,  0.9932]])\n",
            "tensor([[-0.3510,  0.9970,  0.1470,  0.1994],\n",
            "        [-0.5357,  1.6559, -0.7112,  2.4140],\n",
            "        [-0.1524,  0.3520,  1.3384,  0.0549]])\n",
            "tensor(1.00000e-02 *\n",
            "       5.4926)\n",
            "0.05492551624774933\n",
            "tensor([-0.1524,  0.3520,  1.3384,  0.0549])\n"
          ],
          "name": "stdout"
        }
      ]
    },
    {
      "cell_type": "markdown",
      "metadata": {
        "id": "qXuHlKr0taXd",
        "colab_type": "text"
      },
      "source": [
        "## Numpy Bridge"
      ]
    },
    {
      "cell_type": "code",
      "metadata": {
        "id": "QSVxZylztaXe",
        "colab_type": "code",
        "colab": {}
      },
      "source": [
        "import numpy as np"
      ],
      "execution_count": 0,
      "outputs": []
    },
    {
      "cell_type": "code",
      "metadata": {
        "id": "YypX-MRttaXh",
        "colab_type": "code",
        "outputId": "b4577acb-2b3d-4bb7-b277-fd302292f3b0",
        "colab": {}
      },
      "source": [
        "#Converting a Torch Tensor to a NumPy Array\n",
        "a = torch.ones(5)\n",
        "print(a)\n",
        "b = a.numpy()\n",
        "print(b)\n",
        "#See how the numpy array changed their value.\n",
        "a.add_(1)\n",
        "print(a)\n",
        "print(b)"
      ],
      "execution_count": 0,
      "outputs": [
        {
          "output_type": "stream",
          "text": [
            "tensor([ 1.,  1.,  1.,  1.,  1.])\n",
            "[1. 1. 1. 1. 1.]\n",
            "tensor([ 2.,  2.,  2.,  2.,  2.])\n",
            "[2. 2. 2. 2. 2.]\n"
          ],
          "name": "stdout"
        }
      ]
    },
    {
      "cell_type": "code",
      "metadata": {
        "id": "lUn81rx7taXl",
        "colab_type": "code",
        "outputId": "e9670ee2-df4c-48c9-d0ef-7a14dc313590",
        "colab": {}
      },
      "source": [
        "#Converting NumPy Array to Torch Tensor\n",
        "#See how changing the np array changed the Torch Tensor automatically\n",
        "a = np.ones(5)\n",
        "b = torch.from_numpy(a)\n",
        "np.add(a, 1, out=a)\n",
        "print(a)\n",
        "print(b)"
      ],
      "execution_count": 0,
      "outputs": [
        {
          "output_type": "stream",
          "text": [
            "[2. 2. 2. 2. 2.]\n",
            "tensor([ 2.,  2.,  2.,  2.,  2.], dtype=torch.float64)\n"
          ],
          "name": "stdout"
        }
      ]
    },
    {
      "cell_type": "code",
      "metadata": {
        "id": "vnJ_fdUPtaXp",
        "colab_type": "code",
        "outputId": "83c722de-1839-471c-e301-6e3ef0a23989",
        "colab": {}
      },
      "source": [
        "#Move the tensor to the GPU\n",
        "r2 = r2.cuda()\n",
        "print(r2)"
      ],
      "execution_count": 0,
      "outputs": [
        {
          "output_type": "stream",
          "text": [
            "tensor([[-0.3510,  0.9970,  0.1470,  0.1994],\n",
            "        [-0.5357,  1.6559, -0.7112,  2.4140],\n",
            "        [-0.1524,  0.3520,  1.3384,  0.0549],\n",
            "        [ 0.7420,  0.9932,  0.3761,  0.4040]], device='cuda:0')\n"
          ],
          "name": "stdout"
        }
      ]
    },
    {
      "cell_type": "code",
      "metadata": {
        "id": "lsWpNwzrtaXr",
        "colab_type": "code",
        "outputId": "b98e8d54-f10c-4b15-d54c-a56e52fbc628",
        "colab": {}
      },
      "source": [
        "#Provide Easy switching between CPU and GPU\n",
        "CUDA = torch.cuda.is_available()\n",
        "print(CUDA)\n",
        "if CUDA:\n",
        "    add_result = add_result.cuda()\n",
        "    print(add_result)"
      ],
      "execution_count": 0,
      "outputs": [
        {
          "output_type": "stream",
          "text": [
            "True\n",
            "tensor([[-0.3510,  0.9970,  0.1470,  0.1994],\n",
            "        [-0.5357,  1.6559, -0.7112,  2.4140],\n",
            "        [-0.1524,  0.3520,  1.3384,  0.0549],\n",
            "        [ 0.7420,  0.9932,  0.3761,  0.4040]], device='cuda:0')\n"
          ],
          "name": "stdout"
        }
      ]
    },
    {
      "cell_type": "code",
      "metadata": {
        "id": "us4UiWrFtaXu",
        "colab_type": "code",
        "outputId": "f6b96aca-3803-41a2-ce54-574c7e80aa1f",
        "colab": {}
      },
      "source": [
        "#You can also convert a list to a tensor\n",
        "a = [2,3,4,1]\n",
        "print(a)\n",
        "to_list = torch.tensor(a)\n",
        "print(to_list, to_list.dtype)"
      ],
      "execution_count": 0,
      "outputs": [
        {
          "output_type": "stream",
          "text": [
            "[2, 3, 4, 1]\n",
            "tensor([ 2,  3,  4,  1]) torch.int64\n"
          ],
          "name": "stdout"
        }
      ]
    },
    {
      "cell_type": "code",
      "metadata": {
        "id": "I_GqFJV5taXx",
        "colab_type": "code",
        "outputId": "db5d6c57-05d3-49ce-88af-1854c028c747",
        "colab": {}
      },
      "source": [
        "data =  [[1., 2.], [3., 4.],\n",
        "         [5., 6.], [7., 8.]]\n",
        "T = torch.tensor(data)\n",
        "print(T, T.dtype)"
      ],
      "execution_count": 0,
      "outputs": [
        {
          "output_type": "stream",
          "text": [
            "tensor([[ 1.,  2.],\n",
            "        [ 3.,  4.],\n",
            "        [ 5.,  6.],\n",
            "        [ 7.,  8.]]) torch.float32\n"
          ],
          "name": "stdout"
        }
      ]
    },
    {
      "cell_type": "markdown",
      "metadata": {
        "id": "9HkBmYWmtaX2",
        "colab_type": "text"
      },
      "source": [
        "## Tensor Concatenation"
      ]
    },
    {
      "cell_type": "code",
      "metadata": {
        "id": "cEh8EUeetaX3",
        "colab_type": "code",
        "outputId": "f845d4d7-8e4a-4763-b1f7-866376f6bc99",
        "colab": {}
      },
      "source": [
        "#Tensor Concatenation \n",
        "first_1 = torch.randn(2, 5)\n",
        "print(first_1)\n",
        "second_1 = torch.randn(3, 5)\n",
        "print(second_1)\n",
        "#Concatenate along the 0 dimension (concatenate rows)\n",
        "con_1 = torch.cat([first_1, second_1])\n",
        "print('\\n')\n",
        "print(con_1)\n",
        "print('\\n')\n",
        "first_2 = torch.randn(2, 3)\n",
        "print(first_2)\n",
        "second_2 = torch.randn(2, 5)\n",
        "print(second_2)\n",
        "# Concatenate along the 1 dimension (concatenate columns)\n",
        "con_2 = torch.cat([first_2, second_2], 1)\n",
        "print('\\n')\n",
        "print(con_2)\n",
        "print('\\n')"
      ],
      "execution_count": 0,
      "outputs": [
        {
          "output_type": "stream",
          "text": [
            "tensor([[ 0.6135,  0.8433, -1.1979, -0.6967,  1.0293],\n",
            "        [ 0.7166,  1.0994,  1.4566,  0.7288,  0.8442]])\n",
            "tensor([[ 1.3261,  0.4962,  0.8908, -0.0891,  0.2191],\n",
            "        [ 0.4312,  0.8086, -0.7231,  0.5978,  0.1467],\n",
            "        [-1.3080,  0.3101,  0.5747,  1.0255, -1.0372]])\n",
            "\n",
            "\n",
            "tensor([[ 0.6135,  0.8433, -1.1979, -0.6967,  1.0293],\n",
            "        [ 0.7166,  1.0994,  1.4566,  0.7288,  0.8442],\n",
            "        [ 1.3261,  0.4962,  0.8908, -0.0891,  0.2191],\n",
            "        [ 0.4312,  0.8086, -0.7231,  0.5978,  0.1467],\n",
            "        [-1.3080,  0.3101,  0.5747,  1.0255, -1.0372]])\n",
            "\n",
            "\n",
            "tensor([[ 0.1965, -0.7684,  0.2611],\n",
            "        [-0.2699, -1.9723,  0.8114]])\n",
            "tensor([[-0.2711,  0.0370, -2.2648,  0.1803,  0.9619],\n",
            "        [-0.0567, -0.9806,  1.6391,  0.4946,  0.3042]])\n",
            "\n",
            "\n",
            "tensor([[ 0.1965, -0.7684,  0.2611, -0.2711,  0.0370, -2.2648,  0.1803,\n",
            "          0.9619],\n",
            "        [-0.2699, -1.9723,  0.8114, -0.0567, -0.9806,  1.6391,  0.4946,\n",
            "          0.3042]])\n",
            "\n",
            "\n"
          ],
          "name": "stdout"
        }
      ]
    },
    {
      "cell_type": "markdown",
      "metadata": {
        "id": "sMrEnYy3taX-",
        "colab_type": "text"
      },
      "source": [
        "## Adding Dimensions to Tensors"
      ]
    },
    {
      "cell_type": "code",
      "metadata": {
        "id": "4wl8vKettaX_",
        "colab_type": "code",
        "outputId": "82a05930-7cc7-4cf7-ae04-eb5b4a0d7809",
        "colab": {}
      },
      "source": [
        "#Adds a dimension of 1 along a specified index\n",
        "tensor_1 = torch.tensor([1, 2, 3, 4])\n",
        "tensor_a = torch.unsqueeze(tensor_1, 0)\n",
        "print(tensor_a)\n",
        "print(tensor_a.shape)\n",
        "tensor_b = torch.unsqueeze(tensor_1,1)\n",
        "print(tensor_b)\n",
        "print(tensor_b.shape)\n",
        "print('\\n')\n",
        "tensor_2 = torch.rand(2,3,4)\n",
        "print(tensor_2)\n",
        "print('\\n')\n",
        "tensor_c = tensor_2[:,:,2]\n",
        "print(tensor_c)\n",
        "print(tensor_c.shape)\n",
        "print('\\n')\n",
        "tensor_d = torch.unsqueeze(tensor_c,2)\n",
        "print(tensor_d)\n",
        "print(tensor_d.shape)"
      ],
      "execution_count": 0,
      "outputs": [
        {
          "output_type": "stream",
          "text": [
            "tensor([[ 1,  2,  3,  4]])\n",
            "torch.Size([1, 4])\n",
            "tensor([[ 1],\n",
            "        [ 2],\n",
            "        [ 3],\n",
            "        [ 4]])\n",
            "torch.Size([4, 1])\n",
            "\n",
            "\n",
            "tensor([[[ 0.9601,  0.0494,  0.8584,  0.4740],\n",
            "         [ 0.4750,  0.1971,  0.2075,  0.4673],\n",
            "         [ 0.2602,  0.0044,  0.4129,  0.3389]],\n",
            "\n",
            "        [[ 0.6090,  0.3474,  0.7967,  0.0699],\n",
            "         [ 0.2895,  0.6549,  0.3569,  0.9321],\n",
            "         [ 0.7053,  0.3842,  0.0122,  0.9424]]])\n",
            "\n",
            "\n",
            "tensor([[ 0.8584,  0.2075,  0.4129],\n",
            "        [ 0.7967,  0.3569,  0.0122]])\n",
            "torch.Size([2, 3])\n",
            "\n",
            "\n",
            "tensor([[[ 0.8584],\n",
            "         [ 0.2075],\n",
            "         [ 0.4129]],\n",
            "\n",
            "        [[ 0.7967],\n",
            "         [ 0.3569],\n",
            "         [ 0.0122]]])\n",
            "torch.Size([2, 3, 1])\n"
          ],
          "name": "stdout"
        }
      ]
    },
    {
      "cell_type": "markdown",
      "metadata": {
        "id": "XFBvSe9dtaYB",
        "colab_type": "text"
      },
      "source": [
        "## AutoGrad"
      ]
    },
    {
      "cell_type": "code",
      "metadata": {
        "id": "fhYRKtuHtaYC",
        "colab_type": "code",
        "outputId": "c443d205-32ab-40ee-88b6-3e6364658d42",
        "colab": {}
      },
      "source": [
        "#Remember, If requires_grad=True, the Tensor object keeps track of how it was created.\n",
        "x = torch.tensor([1., 2., 3], requires_grad=True)\n",
        "y = torch.tensor([4., 5., 6], requires_grad=True)\n",
        "#Notice that both x and y have their required_grad set to true, therefore we an compute gradients with respect to them\n",
        "z = x + y\n",
        "print(z)\n",
        "# z knows that is was created as a result of addition of x and y. It knows that it wasn't read in from a file\n",
        "print(z.grad_fn)\n",
        "#And if we go further on this\n",
        "s = z.sum()\n",
        "print(s)\n",
        "print(s.grad_fn)"
      ],
      "execution_count": 0,
      "outputs": [
        {
          "output_type": "stream",
          "text": [
            "tensor([ 5.,  7.,  9.])\n",
            "<AddBackward1 object at 0x000001E4514FAF28>\n",
            "tensor(21.)\n",
            "<SumBackward0 object at 0x000001E4514FAE80>\n"
          ],
          "name": "stdout"
        }
      ]
    },
    {
      "cell_type": "code",
      "metadata": {
        "id": "J5aMfPo2taYI",
        "colab_type": "code",
        "outputId": "7c0bbb02-a3f7-408c-87cd-76a1a9d0f6e6",
        "colab": {}
      },
      "source": [
        "#Now if we backpropagate on s, we can find the gradients of s with respect to x\n",
        "s.backward()\n",
        "print(x.grad)"
      ],
      "execution_count": 0,
      "outputs": [
        {
          "output_type": "stream",
          "text": [
            "tensor([ 1.,  1.,  1.])\n"
          ],
          "name": "stdout"
        }
      ]
    },
    {
      "cell_type": "code",
      "metadata": {
        "id": "TDXac9LktaYM",
        "colab_type": "code",
        "outputId": "e484cbd2-7389-4fd1-de7b-ccb2198f66e0",
        "colab": {}
      },
      "source": [
        "# By default, Tensors have `requires_grad=False`\n",
        "x = torch.randn(2, 2)\n",
        "y = torch.randn(2, 2)\n",
        "print(x.requires_grad, y.requires_grad)\n",
        "z = x + y\n",
        "# So you can't backprop through z\n",
        "print(z.grad_fn)\n",
        "#Another way to set the requires_grad = True is\n",
        "x.requires_grad_()\n",
        "y.requires_grad_()\n",
        "# z contains enough information to compute gradients, as we saw above\n",
        "z = x + y\n",
        "print(z.grad_fn)\n",
        "# If any input to an operation has ``requires_grad=True``, so will the output\n",
        "print(z.requires_grad)\n",
        "# Now z has the computation history that relates itself to x and y\n",
        "\n",
        "new_z = z.detach()\n",
        "print(new_z.grad_fn)\n",
        "# z.detach() returns a tensor that shares the same storage as ``z``, but with the computation history forgotten. \n",
        "#It doesn't know anything about how it was computed.In other words, we have broken the Tensor away from its past history\n",
        "\n",
        "#You can also stop autograd from tracking history on Tensors. This concept is useful when applying Transfer Learning \n",
        "print(x.requires_grad)\n",
        "print((x+10).requires_grad)\n",
        "\n",
        "with torch.no_grad():\n",
        "    print((x+10).requires_grad)"
      ],
      "execution_count": 0,
      "outputs": [
        {
          "output_type": "stream",
          "text": [
            "False False\n",
            "None\n",
            "<AddBackward1 object at 0x000001E4515094E0>\n",
            "True\n",
            "None\n",
            "True\n",
            "True\n",
            "False\n"
          ],
          "name": "stdout"
        }
      ]
    },
    {
      "cell_type": "code",
      "metadata": {
        "id": "ww9D1r3gtaYQ",
        "colab_type": "code",
        "outputId": "7c97cdc5-1a3e-478a-ae64-744d5a779526",
        "colab": {}
      },
      "source": [
        "#Let's walk in through one last example\n",
        "x = torch.ones(2, 2, requires_grad=True)\n",
        "print(x)\n",
        "y = x + 2\n",
        "print(y)\n",
        "print(y.grad_fn)\n",
        "z = y * y * 3\n",
        "out = z.mean()\n",
        "print(z, out)\n",
        "out.backward()\n",
        "print(x.grad)"
      ],
      "execution_count": 0,
      "outputs": [
        {
          "output_type": "stream",
          "text": [
            "tensor([[ 1.,  1.],\n",
            "        [ 1.,  1.]])\n",
            "tensor([[ 3.,  3.],\n",
            "        [ 3.,  3.]])\n",
            "<AddBackward0 object at 0x000001E4514FADA0>\n",
            "tensor([[ 27.,  27.],\n",
            "        [ 27.,  27.]]) tensor(27.)\n",
            "tensor([[ 4.5000,  4.5000],\n",
            "        [ 4.5000,  4.5000]])\n"
          ],
          "name": "stdout"
        }
      ]
    },
    {
      "cell_type": "code",
      "metadata": {
        "id": "DLnSefg2taYf",
        "colab_type": "code",
        "outputId": "9d0aaaf9-6bb7-4670-e412-5bb243bd2e93",
        "colab": {}
      },
      "source": [
        "m1 = torch.ones(5,5)\n",
        "m2 = torch.zeros(5,5)\n",
        "#Perform element-wise multiplaction \n",
        "mul = torch.mul(m1,m2)\n",
        "#Another way to perform element-wise multiplaction \n",
        "mul_another = m1*m2\n",
        "print(mul)\n",
        "print(mul_another)"
      ],
      "execution_count": 0,
      "outputs": [
        {
          "output_type": "stream",
          "text": [
            "tensor([[ 0.,  0.,  0.,  0.,  0.],\n",
            "        [ 0.,  0.,  0.,  0.,  0.],\n",
            "        [ 0.,  0.,  0.,  0.,  0.],\n",
            "        [ 0.,  0.,  0.,  0.,  0.],\n",
            "        [ 0.,  0.,  0.,  0.,  0.]])\n",
            "tensor([[ 0.,  0.,  0.,  0.,  0.],\n",
            "        [ 0.,  0.,  0.,  0.,  0.],\n",
            "        [ 0.,  0.,  0.,  0.,  0.],\n",
            "        [ 0.,  0.,  0.,  0.,  0.],\n",
            "        [ 0.,  0.,  0.,  0.,  0.]])\n"
          ],
          "name": "stdout"
        }
      ]
    },
    {
      "cell_type": "code",
      "metadata": {
        "id": "wq6QO8BvtaYi",
        "colab_type": "code",
        "colab": {}
      },
      "source": [
        ""
      ],
      "execution_count": 0,
      "outputs": []
    }
  ]
}